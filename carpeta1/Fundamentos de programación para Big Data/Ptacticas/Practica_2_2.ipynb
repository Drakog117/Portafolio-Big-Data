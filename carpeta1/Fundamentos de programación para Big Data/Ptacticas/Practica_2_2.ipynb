{
  "nbformat": 4,
  "nbformat_minor": 0,
  "metadata": {
    "colab": {
      "provenance": []
    },
    "kernelspec": {
      "name": "python3",
      "display_name": "Python 3"
    },
    "language_info": {
      "name": "python"
    }
  },
  "cells": [
    {
      "cell_type": "markdown",
      "source": [
        "Actividad en clase 2 Lenguaje R\n",
        "\n",
        "Alumno: Jesus Alejandro Valencia Valadez"
      ],
      "metadata": {
        "id": "47f_UvoK-W1T"
      }
    },
    {
      "cell_type": "code",
      "execution_count": 1,
      "metadata": {
        "id": "t81uNOGL90N2"
      },
      "outputs": [],
      "source": [
        "%%capture\n",
        "!pip install rpy2==3.5.1"
      ]
    },
    {
      "cell_type": "code",
      "source": [
        "%load_ext rpy2.ipython"
      ],
      "metadata": {
        "id": "V2OBpd_F-QS3"
      },
      "execution_count": 2,
      "outputs": []
    },
    {
      "cell_type": "code",
      "source": [
        "from google.colab import drive\n",
        "drive.mount('/content/drive', force_remount=True)"
      ],
      "metadata": {
        "colab": {
          "base_uri": "https://localhost:8080/"
        },
        "id": "xwDwlFBC-Ryt",
        "outputId": "53faa52b-6c3a-4940-e792-d09cba8fac8f"
      },
      "execution_count": 3,
      "outputs": [
        {
          "output_type": "stream",
          "name": "stdout",
          "text": [
            "Mounted at /content/drive\n"
          ]
        }
      ]
    },
    {
      "cell_type": "code",
      "source": [
        "%%R\n",
        "library(readr)\n",
        "library(magrittr)\n",
        "library(dplyr)"
      ],
      "metadata": {
        "colab": {
          "base_uri": "https://localhost:8080/"
        },
        "id": "e1CZnmxn-Uv2",
        "outputId": "585bdace-1796-43ce-b926-c318b35ba18c"
      },
      "execution_count": 4,
      "outputs": [
        {
          "output_type": "stream",
          "name": "stderr",
          "text": [
            "WARNING:rpy2.rinterface_lib.callbacks:R[write to console]: \n",
            "Attaching package: ‘dplyr’\n",
            "\n",
            "\n",
            "WARNING:rpy2.rinterface_lib.callbacks:R[write to console]: The following objects are masked from ‘package:stats’:\n",
            "\n",
            "    filter, lag\n",
            "\n",
            "\n",
            "WARNING:rpy2.rinterface_lib.callbacks:R[write to console]: The following objects are masked from ‘package:base’:\n",
            "\n",
            "    intersect, setdiff, setequal, union\n",
            "\n",
            "\n"
          ]
        }
      ]
    },
    {
      "cell_type": "code",
      "source": [
        "%%R\n",
        "data <- read.csv(\"drive/MyDrive/movies.csv\")"
      ],
      "metadata": {
        "id": "YV15KtoV-WQG"
      },
      "execution_count": 5,
      "outputs": []
    },
    {
      "cell_type": "code",
      "source": [
        "%%R\n",
        "colnames(data)"
      ],
      "metadata": {
        "colab": {
          "base_uri": "https://localhost:8080/"
        },
        "id": "fVB1NECY_urg",
        "outputId": "b7ab1e8e-c9e6-4af9-9edc-fea981e66713"
      },
      "execution_count": 6,
      "outputs": [
        {
          "output_type": "stream",
          "name": "stdout",
          "text": [
            " [1] \"name\"     \"rating\"   \"genre\"    \"year\"     \"released\" \"score\"   \n",
            " [7] \"votes\"    \"director\" \"writer\"   \"star\"     \"country\"  \"budget\"  \n",
            "[13] \"gross\"    \"company\"  \"runtime\" \n"
          ]
        }
      ]
    },
    {
      "cell_type": "markdown",
      "source": [
        "0. ¿Cuántas películas tiene el conjunto de datos?"
      ],
      "metadata": {
        "id": "scWQ4umK_Nwr"
      }
    },
    {
      "cell_type": "code",
      "source": [
        "%%R\n",
        "length(rownames(data))"
      ],
      "metadata": {
        "colab": {
          "base_uri": "https://localhost:8080/"
        },
        "id": "90UO1eby_BnK",
        "outputId": "7318470e-2977-4750-ce77-0c31d96aa1d7"
      },
      "execution_count": 7,
      "outputs": [
        {
          "output_type": "stream",
          "name": "stdout",
          "text": [
            "[1] 7668\n"
          ]
        }
      ]
    },
    {
      "cell_type": "markdown",
      "source": [
        "1. ¿Cuáles son los diferentes tipos de clasificación (rating) y cuántos registros existen por cada uno?"
      ],
      "metadata": {
        "id": "HRpaZtH4AtBc"
      }
    },
    {
      "cell_type": "code",
      "source": [
        "%%R\n",
        "data %>% \n",
        "group_by(rating) %>% \n",
        "summarize(cantidad = n())"
      ],
      "metadata": {
        "colab": {
          "base_uri": "https://localhost:8080/"
        },
        "id": "oQfxylNFBR7-",
        "outputId": "39a3165f-56b6-4227-e0f1-580714ac64b7"
      },
      "execution_count": 8,
      "outputs": [
        {
          "output_type": "stream",
          "name": "stdout",
          "text": [
            "# A tibble: 13 × 2\n",
            "   rating      cantidad\n",
            "   <chr>          <int>\n",
            " 1 \"\"                77\n",
            " 2 \"Approved\"         1\n",
            " 3 \"G\"              153\n",
            " 4 \"NC-17\"           23\n",
            " 5 \"Not Rated\"      283\n",
            " 6 \"PG\"            1252\n",
            " 7 \"PG-13\"         2112\n",
            " 8 \"R\"             3697\n",
            " 9 \"TV-14\"            1\n",
            "10 \"TV-MA\"            9\n",
            "11 \"TV-PG\"            5\n",
            "12 \"Unrated\"         52\n",
            "13 \"X\"                3\n"
          ]
        }
      ]
    },
    {
      "cell_type": "markdown",
      "source": [
        "2. ¿Cuáles son los diferentes tipos de género(genre) y cuántos registros existen por cada uno?"
      ],
      "metadata": {
        "id": "KMC6ULB1DKGV"
      }
    },
    {
      "cell_type": "code",
      "source": [
        "%%R\n",
        "data %>% \n",
        "group_by(genre) %>% \n",
        "summarize(cantidad = n())"
      ],
      "metadata": {
        "colab": {
          "base_uri": "https://localhost:8080/"
        },
        "id": "vPstlsjgC9hC",
        "outputId": "7911410f-d405-45d3-9ae7-b12f6becf889"
      },
      "execution_count": 9,
      "outputs": [
        {
          "output_type": "stream",
          "name": "stdout",
          "text": [
            "# A tibble: 19 × 2\n",
            "   genre     cantidad\n",
            "   <chr>        <int>\n",
            " 1 Action        1705\n",
            " 2 Adventure      427\n",
            " 3 Animation      338\n",
            " 4 Biography      443\n",
            " 5 Comedy        2245\n",
            " 6 Crime          551\n",
            " 7 Drama         1518\n",
            " 8 Family          11\n",
            " 9 Fantasy         44\n",
            "10 History          1\n",
            "11 Horror         322\n",
            "12 Music            1\n",
            "13 Musical          2\n",
            "14 Mystery         20\n",
            "15 Romance         10\n",
            "16 Sci-Fi          10\n",
            "17 Sport            1\n",
            "18 Thriller        16\n",
            "19 Western          3\n"
          ]
        }
      ]
    },
    {
      "cell_type": "markdown",
      "source": [
        "3. ¿ Cuántas películas hay registradas por cada año?"
      ],
      "metadata": {
        "id": "dqfc7vyjDc6x"
      }
    },
    {
      "cell_type": "code",
      "source": [
        "%%R\n",
        "data %>% \n",
        "group_by(year) %>% \n",
        "summarize(cantidad = n()) %>%\n",
        "print(n = 41)"
      ],
      "metadata": {
        "colab": {
          "base_uri": "https://localhost:8080/"
        },
        "id": "mhfzBQ4TC7oP",
        "outputId": "70b60db1-bfd7-4204-efd7-beeaf582e01b"
      },
      "execution_count": 10,
      "outputs": [
        {
          "output_type": "stream",
          "name": "stdout",
          "text": [
            "# A tibble: 41 × 2\n",
            "    year cantidad\n",
            "   <int>    <int>\n",
            " 1  1980       92\n",
            " 2  1981      113\n",
            " 3  1982      126\n",
            " 4  1983      144\n",
            " 5  1984      168\n",
            " 6  1985      200\n",
            " 7  1986      200\n",
            " 8  1987      200\n",
            " 9  1988      200\n",
            "10  1989      200\n",
            "11  1990      200\n",
            "12  1991      200\n",
            "13  1992      200\n",
            "14  1993      200\n",
            "15  1994      200\n",
            "16  1995      200\n",
            "17  1996      200\n",
            "18  1997      200\n",
            "19  1998      200\n",
            "20  1999      200\n",
            "21  2000      200\n",
            "22  2001      200\n",
            "23  2002      200\n",
            "24  2003      200\n",
            "25  2004      200\n",
            "26  2005      200\n",
            "27  2006      200\n",
            "28  2007      200\n",
            "29  2008      200\n",
            "30  2009      200\n",
            "31  2010      200\n",
            "32  2011      200\n",
            "33  2012      200\n",
            "34  2013      200\n",
            "35  2014      200\n",
            "36  2015      200\n",
            "37  2016      200\n",
            "38  2017      200\n",
            "39  2018      200\n",
            "40  2019      200\n",
            "41  2020       25\n"
          ]
        }
      ]
    },
    {
      "cell_type": "markdown",
      "source": [
        "4. En promedio, ¿qué año tiene el score más alto?"
      ],
      "metadata": {
        "id": "wL4Q3e-cDz0J"
      }
    },
    {
      "cell_type": "code",
      "source": [
        "%%R\n",
        "data %>% \n",
        "group_by(year) %>% \n",
        "summarize(col = mean(score)) %>%\n",
        "arrange(desc(col))"
      ],
      "metadata": {
        "colab": {
          "base_uri": "https://localhost:8080/"
        },
        "id": "HsSHj6s5DhR5",
        "outputId": "73a75bd8-09f1-4ba0-b53f-829545f1f8fc"
      },
      "execution_count": 11,
      "outputs": [
        {
          "output_type": "stream",
          "name": "stdout",
          "text": [
            "# A tibble: 41 × 2\n",
            "    year   col\n",
            "   <int> <dbl>\n",
            " 1  2016  6.62\n",
            " 2  2013  6.62\n",
            " 3  2014  6.59\n",
            " 4  2017  6.56\n",
            " 5  2015  6.52\n",
            " 6  2004  6.52\n",
            " 7  1999  6.50\n",
            " 8  2018  6.49\n",
            " 9  2011  6.48\n",
            "10  2007  6.47\n",
            "# ℹ 31 more rows\n",
            "# ℹ Use `print(n = ...)` to see more rows\n"
          ]
        }
      ]
    },
    {
      "cell_type": "markdown",
      "source": [
        "5. ¿Qué año tiene la cantidad de votos más alta?"
      ],
      "metadata": {
        "id": "4KUrPTf_FImY"
      }
    },
    {
      "cell_type": "code",
      "source": [
        "%%R\n",
        "data %>% \n",
        "group_by(year) %>% \n",
        "summarize(col2 = mean(votes)) %>%\n",
        "arrange(desc(col2))"
      ],
      "metadata": {
        "colab": {
          "base_uri": "https://localhost:8080/"
        },
        "id": "ZXwK20zCFdYv",
        "outputId": "11a7fa4b-3b05-446d-bee8-5502be40555b"
      },
      "execution_count": 12,
      "outputs": [
        {
          "output_type": "stream",
          "name": "stdout",
          "text": [
            "# A tibble: 41 × 2\n",
            "    year    col2\n",
            "   <int>   <dbl>\n",
            " 1  2013 165466.\n",
            " 2  2014 159966.\n",
            " 3  2012 151874.\n",
            " 4  2011 151535 \n",
            " 5  2010 143708.\n",
            " 6  2008 142129 \n",
            " 7  2009 133596.\n",
            " 8  2007 130819 \n",
            " 9  2004 129203.\n",
            "10  2006 126059 \n",
            "# ℹ 31 more rows\n",
            "# ℹ Use `print(n = ...)` to see more rows\n"
          ]
        }
      ]
    },
    {
      "cell_type": "markdown",
      "source": [
        "6. ¿Qué directores han filmado más de 5 películas?"
      ],
      "metadata": {
        "id": "n2nd6DodFNjv"
      }
    },
    {
      "cell_type": "code",
      "source": [
        "%%R\n",
        "data %>% \n",
        "group_by(director) %>% \n",
        "summarize(col3 = n()) %>%\n",
        "filter (col3 >= 5) %>%\n",
        "arrange(desc(col3))"
      ],
      "metadata": {
        "colab": {
          "base_uri": "https://localhost:8080/"
        },
        "id": "RyHe7GhWFrqj",
        "outputId": "ed5c19fc-a768-4903-b0e4-b8d0cd07a21c"
      },
      "execution_count": 13,
      "outputs": [
        {
          "output_type": "stream",
          "name": "stdout",
          "text": [
            "# A tibble: 427 × 2\n",
            "   director           col3\n",
            "   <chr>             <int>\n",
            " 1 Woody Allen          38\n",
            " 2 Clint Eastwood       31\n",
            " 3 Directors            28\n",
            " 4 Steven Spielberg     27\n",
            " 5 Ron Howard           24\n",
            " 6 Ridley Scott         23\n",
            " 7 Steven Soderbergh    23\n",
            " 8 Joel Schumacher      22\n",
            " 9 Barry Levinson       20\n",
            "10 Martin Scorsese      19\n",
            "# ℹ 417 more rows\n",
            "# ℹ Use `print(n = ...)` to see more rows\n"
          ]
        }
      ]
    },
    {
      "cell_type": "markdown",
      "source": [
        "7. ¿Quién es el actor protagonista que participó en más peliculas en cada decada(80s, 90s, 00s, 10s, 20s)?"
      ],
      "metadata": {
        "id": "MfXK84-3FR_V"
      }
    },
    {
      "cell_type": "code",
      "source": [
        "%%R\n",
        "data %>% \n",
        "mutate(decade = case_when(\n",
        "    year >= 1980 & year < 1990 ~ \"80s\",\n",
        "    year >= 1990 & year < 2000 ~ \"90s\",\n",
        "    year >= 2000 & year < 2010 ~ \"00s\",\n",
        "    year >= 2010 & year < 2020 ~ \"10s\",\n",
        "    year >= 2020 & year < 2030 ~ \"20s\"\n",
        ")) %>% \n",
        "select(decade, star) %>%\n",
        "group_by(decade, star) %>%\n",
        "summarize(num_peliculas = n()) %>% \n",
        "summarize(mejor_actor = star[which.max(num_peliculas)], num_pelis = max(num_peliculas))"
      ],
      "metadata": {
        "colab": {
          "base_uri": "https://localhost:8080/"
        },
        "id": "AYJmBqSSIeGH",
        "outputId": "3369dbca-1937-4c08-9e3d-7c9eab73e77f"
      },
      "execution_count": 14,
      "outputs": [
        {
          "output_type": "stream",
          "name": "stdout",
          "text": [
            "`summarise()` has grouped output by 'decade'. You can override using the\n",
            "`.groups` argument.\n",
            "# A tibble: 5 × 3\n",
            "  decade mejor_actor    num_pelis\n",
            "  <chr>  <chr>              <int>\n",
            "1 00s    Nicolas Cage          17\n",
            "2 10s    Dwayne Johnson        14\n",
            "3 20s    Augie Tulba            1\n",
            "4 80s    Burt Reynolds         14\n",
            "5 90s    Bruce Willis          15\n"
          ]
        }
      ]
    },
    {
      "cell_type": "markdown",
      "source": [
        "8. Top 10 de las películas con más presupuesto"
      ],
      "metadata": {
        "id": "OUtjXPIXNuUx"
      }
    },
    {
      "cell_type": "code",
      "source": [
        "%%R\n",
        "data %>% \n",
        "group_by(name) %>% \n",
        "summarize(presupuesto = budget) %>%\n",
        "filter (presupuesto >= 10) %>%\n",
        "arrange(desc(presupuesto))"
      ],
      "metadata": {
        "colab": {
          "base_uri": "https://localhost:8080/"
        },
        "id": "hTZ2Kj7rEn54",
        "outputId": "3900d36d-a3bd-407a-b8a8-4005f64b3925"
      },
      "execution_count": 15,
      "outputs": [
        {
          "output_type": "stream",
          "name": "stdout",
          "text": [
            "`summarise()` has grouped output by 'name'. You can override using the\n",
            "`.groups` argument.\n",
            "# A tibble: 5,497 × 2\n",
            "# Groups:   name [5,412]\n",
            "   name                                          presupuesto\n",
            "   <chr>                                               <dbl>\n",
            " 1 Avengers: Endgame                               356000000\n",
            " 2 Avengers: Infinity War                          321000000\n",
            " 3 Star Wars: Episode VIII - The Last Jedi         317000000\n",
            " 4 Justice League                                  300000000\n",
            " 5 Pirates of the Caribbean: at World's End        300000000\n",
            " 6 Solo: A Star Wars Story                         275000000\n",
            " 7 Star Wars: Episode IX - The Rise of Skywalker   275000000\n",
            " 8 Superman Returns                                270000000\n",
            " 9 Tangled                                         260000000\n",
            "10 The Lion King                                   260000000\n",
            "# ℹ 5,487 more rows\n",
            "# ℹ Use `print(n = ...)` to see more rows\n"
          ]
        }
      ]
    },
    {
      "cell_type": "markdown",
      "source": [
        "9. Top 10 de las compañías con más películas producidas"
      ],
      "metadata": {
        "id": "iFTyu1vwwHZF"
      }
    },
    {
      "cell_type": "code",
      "source": [
        "%%R\n",
        "data %>% \n",
        "group_by(company) %>% \n",
        "summarize(peliculas_producidas = n()) %>%\n",
        "filter (peliculas_producidas >= 10) %>%\n",
        "arrange(desc(peliculas_producidas))"
      ],
      "metadata": {
        "id": "s3XLGySIPLVp",
        "colab": {
          "base_uri": "https://localhost:8080/"
        },
        "outputId": "eeb4fc3d-c649-4e28-da17-349e8aabeaa3"
      },
      "execution_count": 16,
      "outputs": [
        {
          "output_type": "stream",
          "name": "stdout",
          "text": [
            "# A tibble: 81 × 2\n",
            "   company                   peliculas_producidas\n",
            "   <chr>                                    <int>\n",
            " 1 Universal Pictures                         377\n",
            " 2 Warner Bros.                               334\n",
            " 3 Columbia Pictures                          332\n",
            " 4 Paramount Pictures                         320\n",
            " 5 Twentieth Century Fox                      240\n",
            " 6 New Line Cinema                            174\n",
            " 7 Touchstone Pictures                        132\n",
            " 8 Metro-Goldwyn-Mayer (MGM)                  125\n",
            " 9 Walt Disney Pictures                       123\n",
            "10 TriStar Pictures                            94\n",
            "# ℹ 71 more rows\n",
            "# ℹ Use `print(n = ...)` to see more rows\n"
          ]
        }
      ]
    },
    {
      "cell_type": "markdown",
      "source": [
        "10. Película con el menor y película con la mayor duración "
      ],
      "metadata": {
        "id": "jKKYY1aWwQAj"
      }
    },
    {
      "cell_type": "code",
      "source": [
        "%%R\n",
        "data %>% \n",
        "group_by(name) %>% \n",
        "summarize(runtime) %>%\n",
        "select (runtime) %>%\n",
        "arrange(desc(runtime)) %>%\n",
        "head(n = 1) \n"
      ],
      "metadata": {
        "colab": {
          "base_uri": "https://localhost:8080/"
        },
        "id": "Uh4ipMgkwaPW",
        "outputId": "38eaed83-6676-445d-df11-f3a8ab7b3421"
      },
      "execution_count": 17,
      "outputs": [
        {
          "output_type": "stream",
          "name": "stdout",
          "text": [
            "`summarise()` has grouped output by 'name'. You can override using the\n",
            "`.groups` argument.\n",
            "Adding missing grouping variables: `name`\n",
            "# A tibble: 1 × 2\n",
            "# Groups:   name [1]\n",
            "  name              runtime\n",
            "  <chr>               <dbl>\n",
            "1 The Best of Youth     366\n"
          ]
        }
      ]
    },
    {
      "cell_type": "code",
      "source": [
        "%%R\n",
        "data %>% \n",
        "group_by(name) %>% \n",
        "summarize(runtime) %>%\n",
        "select (runtime) %>%\n",
        "arrange(runtime) %>%\n",
        "head(n=1)"
      ],
      "metadata": {
        "colab": {
          "base_uri": "https://localhost:8080/"
        },
        "id": "zP9BKpaI5dGp",
        "outputId": "4b00dd56-8092-467b-fc9a-19d5139ddc06"
      },
      "execution_count": 21,
      "outputs": [
        {
          "output_type": "stream",
          "name": "stdout",
          "text": [
            "`summarise()` has grouped output by 'name'. You can override using the\n",
            "`.groups` argument.\n",
            "Adding missing grouping variables: `name`\n",
            "# A tibble: 1 × 2\n",
            "# Groups:   name [1]\n",
            "  name                          runtime\n",
            "  <chr>                           <dbl>\n",
            "1 The Business of Show Business      55\n"
          ]
        }
      ]
    },
    {
      "cell_type": "markdown",
      "source": [
        "11. Top 3 de escritores con más trabajos en el siglo XX"
      ],
      "metadata": {
        "id": "DFdQRFF4wafp"
      }
    },
    {
      "cell_type": "code",
      "source": [
        "%%R\n",
        "data %>% \n",
        "mutate(decade = case_when(\n",
        "    year >= 1980 & year < 1990 ~ \"80s\",\n",
        "    year >= 1990 & year < 2000 ~ \"90s\")) %>%\n",
        "select(decade, writer) %>%\n",
        "group_by(decade, writer) %>% \n",
        "summarize(trabajos = n()) %>% \n",
        "arrange(desc(trabajos)) %>%\n",
        "head(n=3)"
      ],
      "metadata": {
        "id": "OYIxqy5ewfFg",
        "colab": {
          "base_uri": "https://localhost:8080/"
        },
        "outputId": "ae0d620c-eba8-4165-b0a2-1b81bfafa58b"
      },
      "execution_count": 19,
      "outputs": [
        {
          "output_type": "stream",
          "name": "stdout",
          "text": [
            "`summarise()` has grouped output by 'decade'. You can override using the\n",
            "`.groups` argument.\n",
            "# A tibble: 3 × 3\n",
            "# Groups:   decade [2]\n",
            "  decade writer      trabajos\n",
            "  <chr>  <chr>          <int>\n",
            "1 <NA>   Luc Besson        19\n",
            "2 <NA>   Woody Allen       17\n",
            "3 80s    John Hughes       15\n"
          ]
        }
      ]
    },
    {
      "cell_type": "markdown",
      "source": [
        "12. Top 3 de directores con más trabajos en tu año de nacimiento"
      ],
      "metadata": {
        "id": "4EL7jBZ4wfSy"
      }
    },
    {
      "cell_type": "code",
      "source": [
        "%%R\n",
        "data %>% \n",
        "group_by(director) %>% \n",
        "summarize(director,year)%>%\n",
        "filter (year == \"2001\") %>%\n",
        "arrange(desc(director)) %>%\n",
        "head(n=3)"
      ],
      "metadata": {
        "id": "PFw5cP5_wkpL",
        "colab": {
          "base_uri": "https://localhost:8080/"
        },
        "outputId": "56c9b059-4b40-4e02-c3d6-0dd0b190ad57"
      },
      "execution_count": 20,
      "outputs": [
        {
          "output_type": "stream",
          "name": "stdout",
          "text": [
            "`summarise()` has grouped output by 'director'. You can override using the\n",
            "`.groups` argument.\n",
            "# A tibble: 3 × 2\n",
            "# Groups:   director [3]\n",
            "  director         year\n",
            "  <chr>           <int>\n",
            "1 Yann Samuell     2003\n",
            "2 Woody Allen      2003\n",
            "3 Wolfgang Becker  2003\n"
          ]
        }
      ]
    },
    {
      "cell_type": "markdown",
      "source": [
        "13. Top 10 de los mejores géneros de películas basados en su Score"
      ],
      "metadata": {
        "id": "HuHrFmTKwkya"
      }
    },
    {
      "cell_type": "code",
      "source": [
        "%%R\n",
        "data %>% \n",
        "group_by(genre) %>% \n",
        "summarize(prom_score = mean(score)) %>%\n",
        "arrange(desc(prom_score)) %>%\n",
        "head(n=10)"
      ],
      "metadata": {
        "id": "9GfSTgsCwsu9",
        "colab": {
          "base_uri": "https://localhost:8080/"
        },
        "outputId": "0eefd710-20a0-4e49-d370-20eb596a8d5b"
      },
      "execution_count": 22,
      "outputs": [
        {
          "output_type": "stream",
          "name": "stdout",
          "text": [
            "# A tibble: 10 × 2\n",
            "   genre     prom_score\n",
            "   <chr>          <dbl>\n",
            " 1 History         8.3 \n",
            " 2 Musical         8.05\n",
            " 3 Music           7.2 \n",
            " 4 Biography       7.03\n",
            " 5 Animation       6.77\n",
            " 6 Crime           6.67\n",
            " 7 Mystery         6.66\n",
            " 8 Romance         6.41\n",
            " 9 Family          6.36\n",
            "10 Adventure       6.29\n"
          ]
        }
      ]
    },
    {
      "cell_type": "markdown",
      "source": [
        "14. ¿Cuántas películas se estrenaron en tu fecha de cumpleaños?"
      ],
      "metadata": {
        "id": "F3SJzcXaws5y"
      }
    },
    {
      "cell_type": "code",
      "source": [
        "%%R\n",
        "data %>%\n",
        "filter(grepl(\"September 13, 2001\", released)) %>%\n",
        "count()"
      ],
      "metadata": {
        "id": "mrVw5hu_wyM9",
        "colab": {
          "base_uri": "https://localhost:8080/"
        },
        "outputId": "2e9dcd8c-c46a-475d-b9d7-4dccc85e37c6"
      },
      "execution_count": 23,
      "outputs": [
        {
          "output_type": "stream",
          "name": "stdout",
          "text": [
            "  n\n",
            "1 0\n"
          ]
        }
      ]
    },
    {
      "cell_type": "markdown",
      "source": [
        "15. Cantidad de películas donde el escritor y el director son la misma persona"
      ],
      "metadata": {
        "id": "kMbdyQuzwyW2"
      }
    },
    {
      "cell_type": "code",
      "source": [
        "%%R\n",
        "data %>%  \n",
        "filter(writer == director) %>%\n",
        "count()\n"
      ],
      "metadata": {
        "id": "at9db-h-w6LJ",
        "colab": {
          "base_uri": "https://localhost:8080/"
        },
        "outputId": "65e585dd-8100-4e0e-a1af-753e1229c024"
      },
      "execution_count": 24,
      "outputs": [
        {
          "output_type": "stream",
          "name": "stdout",
          "text": [
            "     n\n",
            "1 2164\n"
          ]
        }
      ]
    },
    {
      "cell_type": "markdown",
      "source": [
        "16. Cantidad de películas donde el protagonista y el director son la misma persona"
      ],
      "metadata": {
        "id": "xBv3fun1w6UU"
      }
    },
    {
      "cell_type": "code",
      "source": [
        "%%R\n",
        "data %>%  \n",
        "filter(star == director) %>%\n",
        "count()"
      ],
      "metadata": {
        "id": "QyPRyc9axAi9",
        "colab": {
          "base_uri": "https://localhost:8080/"
        },
        "outputId": "39215176-6e33-41dc-8d85-40ae1bccad0a"
      },
      "execution_count": 25,
      "outputs": [
        {
          "output_type": "stream",
          "name": "stdout",
          "text": [
            "    n\n",
            "1 205\n"
          ]
        }
      ]
    },
    {
      "cell_type": "markdown",
      "source": [
        "17. Top 10 de directores que han sido escritores durante más películas"
      ],
      "metadata": {
        "id": "BEOD6deyxAqP"
      }
    },
    {
      "cell_type": "code",
      "source": [
        "%%R\n",
        "data %>% \n",
        "group_by(director) %>% \n",
        "summarize(escritores = n()) %>%\n",
        "filter (escritores >= 10) %>%\n",
        "arrange(desc(escritores))"
      ],
      "metadata": {
        "id": "EB1DdtzCxrXW",
        "colab": {
          "base_uri": "https://localhost:8080/"
        },
        "outputId": "dba68a71-f598-4b35-f2a7-43966ca65bfd"
      },
      "execution_count": 26,
      "outputs": [
        {
          "output_type": "stream",
          "name": "stdout",
          "text": [
            "# A tibble: 114 × 2\n",
            "   director          escritores\n",
            "   <chr>                  <int>\n",
            " 1 Woody Allen               38\n",
            " 2 Clint Eastwood            31\n",
            " 3 Directors                 28\n",
            " 4 Steven Spielberg          27\n",
            " 5 Ron Howard                24\n",
            " 6 Ridley Scott              23\n",
            " 7 Steven Soderbergh         23\n",
            " 8 Joel Schumacher           22\n",
            " 9 Barry Levinson            20\n",
            "10 Martin Scorsese           19\n",
            "# ℹ 104 more rows\n",
            "# ℹ Use `print(n = ...)` to see more rows\n"
          ]
        }
      ]
    },
    {
      "cell_type": "markdown",
      "source": [
        "18. Actor con más películas protagonizadas de tu género favorito"
      ],
      "metadata": {
        "id": "GmduDiE0xrlK"
      }
    },
    {
      "cell_type": "code",
      "source": [
        "%%R\n",
        "data %>% \n",
        "group_by(star, genre) %>% \n",
        "summarize(Cantidad_Pelis = n()) %>%\n",
        "summarize(star, genre, Cantidad_Pelis) %>%\n",
        "filter(genre== \"Comedy\")%>%\n",
        "arrange(desc(Cantidad_Pelis))%>%\n",
        "head(n=1)\n"
      ],
      "metadata": {
        "id": "fVEu5vz6xziS",
        "colab": {
          "base_uri": "https://localhost:8080/"
        },
        "outputId": "bb3e8f8a-aef6-4a66-b946-6375158d3d8e"
      },
      "execution_count": 75,
      "outputs": [
        {
          "output_type": "stream",
          "name": "stdout",
          "text": [
            "`summarise()` has grouped output by 'star'. You can override using the\n",
            "`.groups` argument.\n",
            "`summarise()` has grouped output by 'star'. You can override using the\n",
            "`.groups` argument.\n",
            "# A tibble: 1 × 3\n",
            "# Groups:   star [1]\n",
            "  star         genre  Cantidad_Pelis\n",
            "  <chr>        <chr>           <int>\n",
            "1 Steve Martin Comedy             24\n"
          ]
        }
      ]
    }
  ]
}