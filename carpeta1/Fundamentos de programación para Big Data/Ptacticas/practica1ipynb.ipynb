{
  "nbformat": 4,
  "nbformat_minor": 0,
  "metadata": {
    "colab": {
      "provenance": []
    },
    "kernelspec": {
      "name": "python3",
      "display_name": "Python 3"
    },
    "language_info": {
      "name": "python"
    }
  },
  "cells": [
    {
      "cell_type": "markdown",
      "source": [],
      "metadata": {
        "id": "HIqrNS7z0T_E"
      }
    },
    {
      "cell_type": "markdown",
      "source": [
        "Jesus Alejandro Valencia Valadez"
      ],
      "metadata": {
        "id": "9EhL1vJ9TQoT"
      }
    },
    {
      "cell_type": "code",
      "execution_count": 1,
      "metadata": {
        "id": "Huh-IEBJ8bQQ"
      },
      "outputs": [],
      "source": [
        "%%capture # \n",
        "!pip install rpy2==3.5.1"
      ]
    },
    {
      "cell_type": "code",
      "source": [
        "%load_ext rpy2.ipython"
      ],
      "metadata": {
        "id": "wnbSUCUN9SHm"
      },
      "execution_count": 2,
      "outputs": []
    },
    {
      "cell_type": "code",
      "source": [
        "from google.colab import drive \n",
        "drive.mount('/content/drive', force_remount=True)"
      ],
      "metadata": {
        "colab": {
          "base_uri": "https://localhost:8080/"
        },
        "id": "_CuhUwUy9_uO",
        "outputId": "2b67b1b6-3d19-4b3e-c9bb-c03486d44e38"
      },
      "execution_count": 3,
      "outputs": [
        {
          "output_type": "stream",
          "name": "stdout",
          "text": [
            "Mounted at /content/drive\n"
          ]
        }
      ]
    },
    {
      "cell_type": "code",
      "source": [
        "%%R\n",
        "library(readr)\n",
        "library(magrittr)\n",
        "library(dplyr)"
      ],
      "metadata": {
        "colab": {
          "base_uri": "https://localhost:8080/"
        },
        "id": "ZlFo-9s--nNM",
        "outputId": "9af5678c-685e-4bf0-905e-58d25897fd94"
      },
      "execution_count": 4,
      "outputs": [
        {
          "output_type": "stream",
          "name": "stderr",
          "text": [
            "WARNING:rpy2.rinterface_lib.callbacks:R[write to console]: \n",
            "Attaching package: ‘dplyr’\n",
            "\n",
            "\n",
            "WARNING:rpy2.rinterface_lib.callbacks:R[write to console]: The following objects are masked from ‘package:stats’:\n",
            "\n",
            "    filter, lag\n",
            "\n",
            "\n",
            "WARNING:rpy2.rinterface_lib.callbacks:R[write to console]: The following objects are masked from ‘package:base’:\n",
            "\n",
            "    intersect, setdiff, setequal, union\n",
            "\n",
            "\n"
          ]
        }
      ]
    },
    {
      "cell_type": "code",
      "source": [
        "%%R\n",
        "data <- read.csv(\"drive/MyDrive/student-mat.csv\")"
      ],
      "metadata": {
        "id": "flsAEEVq--ek"
      },
      "execution_count": 6,
      "outputs": []
    },
    {
      "cell_type": "code",
      "source": [
        "%%R\n",
        "length(rownames(data))"
      ],
      "metadata": {
        "colab": {
          "base_uri": "https://localhost:8080/"
        },
        "id": "FVYvvzdzAuyR",
        "outputId": "13c36212-d208-42df-caf0-1dba19a4e6c2"
      },
      "execution_count": 7,
      "outputs": [
        {
          "output_type": "stream",
          "name": "stdout",
          "text": [
            "[1] 395\n"
          ]
        }
      ]
    },
    {
      "cell_type": "code",
      "source": [
        "%%R\n",
        "length(colnames(data))"
      ],
      "metadata": {
        "colab": {
          "base_uri": "https://localhost:8080/"
        },
        "id": "UlbgjBnSBJ_B",
        "outputId": "b297f813-7efd-4afc-8aa6-7d2ec14bf984"
      },
      "execution_count": 8,
      "outputs": [
        {
          "output_type": "stream",
          "name": "stdout",
          "text": [
            "[1] 33\n"
          ]
        }
      ]
    },
    {
      "cell_type": "code",
      "source": [
        "%%R\n",
        "colnames(data)"
      ],
      "metadata": {
        "colab": {
          "base_uri": "https://localhost:8080/"
        },
        "id": "LEzlvbY3BZGL",
        "outputId": "ce3e09d7-a57f-4db4-8273-a9f7ed3e2ab1"
      },
      "execution_count": 9,
      "outputs": [
        {
          "output_type": "stream",
          "name": "stdout",
          "text": [
            " [1] \"school\"     \"sex\"        \"age\"        \"address\"    \"famsize\"   \n",
            " [6] \"Pstatus\"    \"Medu\"       \"Fedu\"       \"Mjob\"       \"Fjob\"      \n",
            "[11] \"reason\"     \"guardian\"   \"traveltime\" \"studytime\"  \"failures\"  \n",
            "[16] \"schoolsup\"  \"famsup\"     \"paid\"       \"activities\" \"nursery\"   \n",
            "[21] \"higher\"     \"internet\"   \"romantic\"   \"famrel\"     \"freetime\"  \n",
            "[26] \"goout\"      \"Dalc\"       \"Walc\"       \"health\"     \"absences\"  \n",
            "[31] \"G1\"         \"G2\"         \"G3\"        \n"
          ]
        }
      ]
    },
    {
      "cell_type": "markdown",
      "source": [
        "0. visulizacion previa de datos\n"
      ],
      "metadata": {
        "id": "f5z0CsdHB0yr"
      }
    },
    {
      "cell_type": "code",
      "source": [
        "%%R\n",
        "data %>%\n",
        "select(1:10) %>%\n",
        "head(n=10)\n"
      ],
      "metadata": {
        "colab": {
          "base_uri": "https://localhost:8080/"
        },
        "id": "DLaNqEC4Bm9M",
        "outputId": "f794eb78-d45c-4123-92d7-67600c8088aa"
      },
      "execution_count": 10,
      "outputs": [
        {
          "output_type": "stream",
          "name": "stdout",
          "text": [
            "   school sex age address famsize Pstatus Medu Fedu     Mjob     Fjob\n",
            "1      GP   F  18       U     GT3       A    4    4  at_home  teacher\n",
            "2      GP   F  17       U     GT3       T    1    1  at_home    other\n",
            "3      GP   F  15       U     LE3       T    1    1  at_home    other\n",
            "4      GP   F  15       U     GT3       T    4    2   health services\n",
            "5      GP   F  16       U     GT3       T    3    3    other    other\n",
            "6      GP   M  16       U     LE3       T    4    3 services    other\n",
            "7      GP   M  16       U     LE3       T    2    2    other    other\n",
            "8      GP   F  17       U     GT3       A    4    4    other  teacher\n",
            "9      GP   M  15       U     LE3       A    3    2 services    other\n",
            "10     GP   M  15       U     GT3       T    3    4    other    other\n"
          ]
        }
      ]
    },
    {
      "cell_type": "markdown",
      "source": [
        "1. alumnos que salen de casa regularmente(>=3) y toman regularmente los fines de semana\n"
      ],
      "metadata": {
        "id": "z2JDCjgEDZIz"
      }
    },
    {
      "cell_type": "code",
      "source": [
        "%%R\n",
        "data %>%\n",
        "filter(goout >= 3 & Walc >= 3) %>%\n",
        "select(1:9, goout, Walc) %>%\n",
        "head(n=10)"
      ],
      "metadata": {
        "colab": {
          "base_uri": "https://localhost:8080/"
        },
        "id": "8a0lMjndCMil",
        "outputId": "94f13e52-10eb-49d4-c896-fae2e77bef17"
      },
      "execution_count": 11,
      "outputs": [
        {
          "output_type": "stream",
          "name": "stdout",
          "text": [
            "   school sex age address famsize Pstatus Medu Fedu     Mjob goout Walc\n",
            "1      GP   M  15       U     LE3       T    4    4   health     3    3\n",
            "2      GP   M  17       U     GT3       T    3    2 services     5    4\n",
            "3      GP   M  16       U     LE3       T    4    3   health     3    3\n",
            "4      GP   M  16       U     LE3       T    2    2    other     4    4\n",
            "5      GP   M  15       U     GT3       T    4    2   health     4    4\n",
            "6      GP   M  16       U     GT3       T    4    4  teacher     5    5\n",
            "7      GP   M  15       U     LE3       T    4    4  teacher     3    4\n",
            "8      GP   F  16       U     LE3       A    3    3    other     5    4\n",
            "9      GP   F  16       U     LE3       T    2    2 services     3    3\n",
            "10     GP   M  15       U     LE3       A    4    2   health     5    4\n"
          ]
        }
      ]
    },
    {
      "cell_type": "markdown",
      "source": [
        "2. alumnos que salen con amigos regularmente (>=3) y toman regularmente entre semana "
      ],
      "metadata": {
        "id": "1q0GXr60Frrl"
      }
    },
    {
      "cell_type": "code",
      "source": [
        "%%R\n",
        "\n",
        "data %>%\n",
        "  filter(goout < 3 & Dalc < 3) %>%\n",
        "  select(1:5, 10:12) %>%\n",
        "  head(n=10)"
      ],
      "metadata": {
        "colab": {
          "base_uri": "https://localhost:8080/"
        },
        "id": "Q7HP1dRtFUGf",
        "outputId": "2bc48e32-0810-421d-e847-32fa4cc2df3e"
      },
      "execution_count": 21,
      "outputs": [
        {
          "output_type": "stream",
          "name": "stdout",
          "text": [
            "   school sex age address famsize     Fjob     reason guardian\n",
            "1      GP   F  15       U     LE3    other      other   mother\n",
            "2      GP   F  15       U     GT3 services       home   mother\n",
            "3      GP   F  16       U     GT3    other       home   father\n",
            "4      GP   M  16       U     LE3    other reputation   mother\n",
            "5      GP   M  15       U     LE3    other       home   mother\n",
            "6      GP   M  15       U     GT3    other       home   mother\n",
            "7      GP   F  15       U     GT3    other reputation   father\n",
            "8      GP   M  15       U     GT3    other       home    other\n",
            "9      GP   F  16       U     GT3    other reputation   mother\n",
            "10     GP   M  15       U     GT3    other reputation   mother\n"
          ]
        }
      ]
    },
    {
      "cell_type": "markdown",
      "source": [
        "3. alumnos que salen con amigos y toman regularmente cualquier dia"
      ],
      "metadata": {
        "id": "lDSO_uTsFzsB"
      }
    },
    {
      "cell_type": "code",
      "source": [
        "%%R\n",
        "data %>%\n",
        "  filter(goout < 3 & (Dalc < 3 | Walc < 3)) %>%\n",
        "  select(1:5, 10:12) %>%\n",
        "  head(n=10)"
      ],
      "metadata": {
        "colab": {
          "base_uri": "https://localhost:8080/"
        },
        "id": "WIQy12P9F4hg",
        "outputId": "72313adf-13ce-42ec-b3b8-0fcae403c330"
      },
      "execution_count": 22,
      "outputs": [
        {
          "output_type": "stream",
          "name": "stdout",
          "text": [
            "   school sex age address famsize     Fjob     reason guardian\n",
            "1      GP   F  15       U     LE3    other      other   mother\n",
            "2      GP   F  15       U     GT3 services       home   mother\n",
            "3      GP   F  16       U     GT3    other       home   father\n",
            "4      GP   M  16       U     LE3    other reputation   mother\n",
            "5      GP   M  15       U     LE3    other       home   mother\n",
            "6      GP   M  15       U     GT3    other       home   mother\n",
            "7      GP   F  15       U     GT3    other reputation   father\n",
            "8      GP   M  15       U     GT3    other       home    other\n",
            "9      GP   F  16       U     GT3    other reputation   mother\n",
            "10     GP   M  15       U     GT3    other reputation   mother\n"
          ]
        }
      ]
    },
    {
      "cell_type": "markdown",
      "source": [
        "4. ¿los alumnos del ejercicio 1 son los mismos que los del ejerccio 2? ¿por que?\n"
      ],
      "metadata": {
        "id": "Ru_mqnJuF4xZ"
      }
    },
    {
      "cell_type": "markdown",
      "source": [
        "R= No, ya que son diferentes los momentos que salen"
      ],
      "metadata": {
        "id": "hx7DK1KhK-cj"
      }
    },
    {
      "cell_type": "markdown",
      "source": [
        "5. Alumnos que no quieren continuar sus estudios pero sus padres si cuentan con un alto grado de estudios\n"
      ],
      "metadata": {
        "id": "c2ACHFszGDGT"
      }
    },
    {
      "cell_type": "code",
      "source": [
        "%%R\n",
        "data %>%\n",
        "  filter(higher != \"no\" &(Medu >= 3|Fedu >= 3)) %>%\n",
        "  select(1:5, 10:12) %>%\n",
        "  head(n=10)\n"
      ],
      "metadata": {
        "colab": {
          "base_uri": "https://localhost:8080/"
        },
        "id": "I6gp3gu2GCrT",
        "outputId": "9ec1a6d0-61b0-4ae0-9fb3-620573864742"
      },
      "execution_count": 23,
      "outputs": [
        {
          "output_type": "stream",
          "name": "stdout",
          "text": [
            "   school sex age address famsize     Fjob     reason guardian\n",
            "1      GP   F  18       U     GT3  teacher     course   mother\n",
            "2      GP   F  15       U     GT3 services       home   mother\n",
            "3      GP   F  16       U     GT3    other       home   father\n",
            "4      GP   M  16       U     LE3    other reputation   mother\n",
            "5      GP   F  17       U     GT3  teacher       home   mother\n",
            "6      GP   M  15       U     LE3    other       home   mother\n",
            "7      GP   M  15       U     GT3    other       home   mother\n",
            "8      GP   F  15       U     GT3   health reputation   mother\n",
            "9      GP   M  15       U     LE3 services     course   father\n",
            "10     GP   M  15       U     GT3    other     course   mother\n"
          ]
        }
      ]
    },
    {
      "cell_type": "markdown",
      "source": [
        "6. alumnos que quieren continuar con sus estudios pero sus padres no cuentan con un alto grado de estudios"
      ],
      "metadata": {
        "id": "kf7oj4IMGQo-"
      }
    },
    {
      "cell_type": "code",
      "source": [
        "%%R\n",
        "data %>%\n",
        "  filter(higher != \"yes\" &(Medu <= 2|Fedu <= 2)) %>%\n",
        "  select(1:5, 10:12) %>%\n",
        "  head(n=10)\n"
      ],
      "metadata": {
        "colab": {
          "base_uri": "https://localhost:8080/"
        },
        "id": "rNXfMv3VGYmc",
        "outputId": "a58b4c89-ee77-40cc-9e85-e6b59736c865"
      },
      "execution_count": 24,
      "outputs": [
        {
          "output_type": "stream",
          "name": "stdout",
          "text": [
            "   school sex age address famsize     Fjob     reason guardian\n",
            "1      GP   M  17       U     GT3    other       home   mother\n",
            "2      GP   F  19       U     GT3    other     course    other\n",
            "3      GP   M  18       U     LE3    other     course   mother\n",
            "4      GP   M  19       U     GT3  at_home       home   mother\n",
            "5      GP   M  17       R     LE3    other     course   mother\n",
            "6      GP   M  17       U     GT3 services     course   father\n",
            "7      GP   M  17       R     LE3 services     course   mother\n",
            "8      GP   M  16       U     GT3 services     course   mother\n",
            "9      GP   M  16       U     GT3    other     course   father\n",
            "10     GP   M  18       U     GT3 services reputation   father\n"
          ]
        }
      ]
    },
    {
      "cell_type": "markdown",
      "source": [
        "7. alumnos provenientes de una zona rurial que no cuentan con internet en casa"
      ],
      "metadata": {
        "id": "q85hyqfsGZCS"
      }
    },
    {
      "cell_type": "code",
      "source": [
        "%%R\n",
        "data %>%\n",
        "  filter(address != \"R\" & internet == \"no\") %>%\n",
        "  select(1:5, 10:12, internet, address) %>%\n",
        "  head(n=10)\n"
      ],
      "metadata": {
        "colab": {
          "base_uri": "https://localhost:8080/"
        },
        "id": "5DoTHSEdGg8W",
        "outputId": "7572c6e1-1bf9-490d-afc9-22906d1c507c"
      },
      "execution_count": 26,
      "outputs": [
        {
          "output_type": "stream",
          "name": "stdout",
          "text": [
            "   school sex age address famsize    Fjob     reason guardian internet\n",
            "1      GP   F  18       U     GT3 teacher     course   mother       no\n",
            "2      GP   F  16       U     GT3   other       home   father       no\n",
            "3      GP   F  17       U     GT3 teacher       home   mother       no\n",
            "4      GP   F  16       U     GT3   other reputation   mother       no\n",
            "5      GP   F  15       U     GT3   other      other   father       no\n",
            "6      GP   M  15       U     GT3   other       home   mother       no\n",
            "7      GP   M  15       U     LE3  health      other   father       no\n",
            "8      GP   M  15       U     GT3  health reputation   mother       no\n",
            "9      GP   M  16       U     GT3   other reputation   mother       no\n",
            "10     GP   F  16       U     LE3   other     course   mother       no\n"
          ]
        }
      ]
    },
    {
      "cell_type": "markdown",
      "source": [
        "8. promedio de calificaciones g1, g2, g3 (mostrar primerios 50 estudiantes"
      ],
      "metadata": {
        "id": "g6sY-XU8GhS7"
      }
    },
    {
      "cell_type": "code",
      "source": [
        "%%R\n",
        "data %>%\n",
        "  mutate(promedio = (G1 + G2) / 2) %>%\n",
        "  select(1:5, 10:12, G1, G2, promedio) %>%\n",
        "  head(n=10)"
      ],
      "metadata": {
        "colab": {
          "base_uri": "https://localhost:8080/"
        },
        "id": "ZjM3THXfGoGE",
        "outputId": "93d8d0bf-1a8b-4137-f160-edc304501199"
      },
      "execution_count": 27,
      "outputs": [
        {
          "output_type": "stream",
          "name": "stdout",
          "text": [
            "   school sex age address famsize     Fjob     reason guardian G1 G2 promedio\n",
            "1      GP   F  18       U     GT3  teacher     course   mother  5  6      5.5\n",
            "2      GP   F  17       U     GT3    other     course   father  5  5      5.0\n",
            "3      GP   F  15       U     LE3    other      other   mother  7  8      7.5\n",
            "4      GP   F  15       U     GT3 services       home   mother 15 14     14.5\n",
            "5      GP   F  16       U     GT3    other       home   father  6 10      8.0\n",
            "6      GP   M  16       U     LE3    other reputation   mother 15 15     15.0\n",
            "7      GP   M  16       U     LE3    other       home   mother 12 12     12.0\n",
            "8      GP   F  17       U     GT3  teacher       home   mother  6  5      5.5\n",
            "9      GP   M  15       U     LE3    other       home   mother 16 18     17.0\n",
            "10     GP   M  15       U     GT3    other       home   mother 14 15     14.5\n"
          ]
        }
      ]
    },
    {
      "cell_type": "markdown",
      "source": [
        "# 9.Numero de alumnos menores de edad y numero de alumnos mayores de edad"
      ],
      "metadata": {
        "id": "Bbzpjx8sGrYb"
      }
    },
    {
      "cell_type": "code",
      "source": [
        "%%R\n",
        "data %>% \n",
        "  mutate(age_group = ifelse(age >= 18, \"Mayor\", \"Menor\")) %>% \n",
        "  group_by(school, age_group) %>% \n",
        "  count()"
      ],
      "metadata": {
        "colab": {
          "base_uri": "https://localhost:8080/"
        },
        "id": "ppC8X2uTGzZF",
        "outputId": "09a2e559-6188-4f85-9b16-a69c608b7461"
      },
      "execution_count": 30,
      "outputs": [
        {
          "output_type": "stream",
          "name": "stdout",
          "text": [
            "# A tibble: 4 × 3\n",
            "# Groups:   school, age_group [4]\n",
            "  school age_group     n\n",
            "  <chr>  <chr>     <int>\n",
            "1 GP     Mayor        77\n",
            "2 GP     Menor       272\n",
            "3 MS     Mayor        34\n",
            "4 MS     Menor        12\n"
          ]
        }
      ]
    },
    {
      "cell_type": "markdown",
      "source": [
        "10. que gupo representa un mayor numero de relaciones romanticas, los hombres o las mujeres "
      ],
      "metadata": {
        "id": "WAdHlXnkGzqw"
      }
    },
    {
      "cell_type": "code",
      "source": [
        "%%R\n",
        "data %>% \n",
        "group_by(sex) %>% \n",
        "count(romantic) %>% \n",
        "filter(romantic==\"yes\")"
      ],
      "metadata": {
        "colab": {
          "base_uri": "https://localhost:8080/"
        },
        "id": "qGUVte3mG6pJ",
        "outputId": "bbb6e249-b5ee-4ec9-dd12-b3a7b7603727"
      },
      "execution_count": 31,
      "outputs": [
        {
          "output_type": "stream",
          "name": "stdout",
          "text": [
            "# A tibble: 2 × 3\n",
            "# Groups:   sex [2]\n",
            "  sex   romantic     n\n",
            "  <chr> <chr>    <int>\n",
            "1 F     yes         79\n",
            "2 M     yes         53\n"
          ]
        }
      ]
    },
    {
      "cell_type": "code",
      "source": [],
      "metadata": {
        "id": "BC7AOaVi1anC"
      },
      "execution_count": 19,
      "outputs": []
    }
  ]
}