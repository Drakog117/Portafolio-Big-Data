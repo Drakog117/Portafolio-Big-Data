{
  "nbformat": 4,
  "nbformat_minor": 0,
  "metadata": {
    "colab": {
      "provenance": []
    },
    "kernelspec": {
      "name": "python3",
      "display_name": "Python 3"
    },
    "language_info": {
      "name": "python"
    }
  },
  "cells": [
    {
      "cell_type": "code",
      "execution_count": 66,
      "metadata": {
        "id": "GrayHblpwe4z"
      },
      "outputs": [],
      "source": [
        "#Equipo:  Jesus Alejandro Valencia Valadez\n",
        "#         Donovan Gared Gracia Orozco"
      ]
    },
    {
      "cell_type": "code",
      "source": [
        "%%capture \n",
        "!pip install rpy2==3.5.1"
      ],
      "metadata": {
        "id": "rJ8Vuw2hGX0k"
      },
      "execution_count": null,
      "outputs": []
    },
    {
      "cell_type": "code",
      "source": [
        "%load_ext rpy2.ipython"
      ],
      "metadata": {
        "colab": {
          "base_uri": "https://localhost:8080/"
        },
        "id": "zAjJgD3Twh5_",
        "outputId": "25c17dda-caab-4987-8257-0ca0fa516ced"
      },
      "execution_count": 67,
      "outputs": [
        {
          "output_type": "stream",
          "name": "stdout",
          "text": [
            "The rpy2.ipython extension is already loaded. To reload it, use:\n",
            "  %reload_ext rpy2.ipython\n"
          ]
        }
      ]
    },
    {
      "cell_type": "code",
      "source": [
        "from google.colab import drive \n",
        "drive.mount('/content/drive', force_remount=True)"
      ],
      "metadata": {
        "colab": {
          "base_uri": "https://localhost:8080/"
        },
        "id": "Y_2KGFLiwjnA",
        "outputId": "706389b9-073d-486c-b816-e6aba6af2c3d"
      },
      "execution_count": 68,
      "outputs": [
        {
          "output_type": "stream",
          "name": "stdout",
          "text": [
            "Mounted at /content/drive\n"
          ]
        }
      ]
    },
    {
      "cell_type": "code",
      "source": [
        "%%R\n",
        "library(readr)\n",
        "library(magrittr)\n",
        "library(dplyr)"
      ],
      "metadata": {
        "id": "Ww_7HE9Dwjpu"
      },
      "execution_count": 69,
      "outputs": []
    },
    {
      "cell_type": "code",
      "source": [
        "%%R\n",
        "data <- read.csv(\"drive/MyDrive/ds_salaries.csv\")"
      ],
      "metadata": {
        "id": "KniF1Y5mzKjn"
      },
      "execution_count": 70,
      "outputs": []
    },
    {
      "cell_type": "code",
      "source": [
        "%%R\n",
        "colnames(data)"
      ],
      "metadata": {
        "colab": {
          "base_uri": "https://localhost:8080/"
        },
        "id": "ekoSk2RlzKme",
        "outputId": "8099058d-afec-4ebe-fdc5-ee13d4027b87"
      },
      "execution_count": 71,
      "outputs": [
        {
          "output_type": "stream",
          "name": "stdout",
          "text": [
            " [1] \"work_year\"          \"experience_level\"   \"employment_type\"   \n",
            " [4] \"job_title\"          \"salary\"             \"salary_currency\"   \n",
            " [7] \"salary_in_usd\"      \"employee_residence\" \"remote_ratio\"      \n",
            "[10] \"company_location\"   \"company_size\"      \n"
          ]
        }
      ]
    },
    {
      "cell_type": "markdown",
      "source": [
        "1. LA columna \"salay_in_usd\"muestra el salario anual en usd de cada puesto de trabajo. \n",
        "Si un dolar equivale a 17.81 mxn, elabore una columna que muestre la conversion a salario\n",
        " mensual en pesos y muestre el top 10 de los titulos profesionales que tienen el mejor sueldo en ciencia de datos"
      ],
      "metadata": {
        "id": "uexS7rm23eDE"
      }
    },
    {
      "cell_type": "code",
      "source": [
        "%%R\n",
        "data %>% \n",
        "group_by(salary_in_usd) %>%\n",
        "mutate(conversion_pesos = (salary_in_usd * 17.81)/12) %>%\n",
        "select(job_title,salary_in_usd, conversion_pesos)%>%\n",
        "arrange(desc(conversion_pesos))%>%\n",
        "head(n=10)"
      ],
      "metadata": {
        "colab": {
          "base_uri": "https://localhost:8080/"
        },
        "id": "0obGuW3Jz7_y",
        "outputId": "8000e341-593d-4399-ca73-61548f53c9be"
      },
      "execution_count": 72,
      "outputs": [
        {
          "output_type": "stream",
          "name": "stdout",
          "text": [
            "# A tibble: 10 × 3\n",
            "# Groups:   salary_in_usd [10]\n",
            "   job_title                          salary_in_usd conversion_pesos\n",
            "   <chr>                                      <int>            <dbl>\n",
            " 1 Research Scientist                        450000          667875 \n",
            " 2 Data Analyst                              430967          639627.\n",
            " 3 AI Scientist                              423834          629040.\n",
            " 4 Applied Machine Learning Scientist        423000          627802.\n",
            " 5 Principal Data Scientist                  416000          617413.\n",
            " 6 Data Scientist                            412000          611477.\n",
            " 7 Data Analytics Lead                       405000          601087.\n",
            " 8 Data Analyst                              385000          571404.\n",
            " 9 Applied Data Scientist                    380000          563983.\n",
            "10 Data Architect                            376080          558165.\n"
          ]
        }
      ]
    },
    {
      "cell_type": "markdown",
      "source": [
        "2. Suponga que desea aplicar este año para un puesto de los presentados en este conjunto de datos. Si su nivel de experencia es EN y quiere obtener el sueldo más alto posible, ¿Qué título le conviene más obtener? Obtenga el salario promedio de cada puesto cuyo año sea el año actual para encintrar la respuesta y muestrela junto con su salario mensual en mxn"
      ],
      "metadata": {
        "id": "YyjoZcoy3mAV"
      }
    },
    {
      "cell_type": "code",
      "source": [
        "%%R\n",
        "data %>% \n",
        "group_by(experience_level) %>%\n",
        "filter(experience_level == \"EN\")%>%\n",
        "filter(work_year == \"2023\")%>%\n",
        "mutate(conversion_pesos = (salary_in_usd * 17.81)/12) %>%\n",
        "select(work_year,job_title, conversion_pesos)%>%\n",
        "arrange(desc(conversion_pesos))%>%\n",
        "head(1)"
      ],
      "metadata": {
        "colab": {
          "base_uri": "https://localhost:8080/"
        },
        "id": "8nG41ogK0g3V",
        "outputId": "306dd4e2-e857-4051-84c1-a4aa8428d8bb"
      },
      "execution_count": 73,
      "outputs": [
        {
          "output_type": "stream",
          "name": "stdout",
          "text": [
            "Adding missing grouping variables: `experience_level`\n",
            "# A tibble: 1 × 4\n",
            "# Groups:   experience_level [1]\n",
            "  experience_level work_year job_title          conversion_pesos\n",
            "  <chr>                <int> <chr>                         <dbl>\n",
            "1 EN                    2023 Research Scientist          326517.\n"
          ]
        }
      ]
    },
    {
      "cell_type": "markdown",
      "source": [
        "3. Existen registros de trabajadores que radican en México. Averigue qué título profesional, nivel de expenencia y salario mensual en mxn tienen y ordene los registros de mayor a menor por su salario."
      ],
      "metadata": {
        "id": "jmE12k7i3p3C"
      }
    },
    {
      "cell_type": "code",
      "source": [
        "%%R\n",
        "data %>%\n",
        "filter(grepl(\"MX\", company_location)) %>%\n",
        "mutate(conversion_pesos = salary_in_usd * 17.81 / 12) %>%\n",
        "select(job_title, experience_level, conversion_pesos) %>%\n",
        "arrange(desc(conversion_pesos)) %>%\n",
        "head(n=10)"
      ],
      "metadata": {
        "colab": {
          "base_uri": "https://localhost:8080/"
        },
        "id": "JQwzIdpg3pVU",
        "outputId": "2a7431af-5b90-4809-ce2e-b078bab4661a"
      },
      "execution_count": 74,
      "outputs": [
        {
          "output_type": "stream",
          "name": "stdout",
          "text": [
            "                   job_title experience_level conversion_pesos\n",
            "1  Machine Learning Engineer               SE        378462.50\n",
            "2  Machine Learning Engineer               SE        274570.83\n",
            "3       Data Science Manager               SE        222625.00\n",
            "4       Data Science Manager               SE        133575.00\n",
            "5              Data Engineer               MI        106860.00\n",
            "6              Data Engineer               MI         89050.00\n",
            "7      Data Science Engineer               SE         89050.00\n",
            "8  Machine Learning Engineer               MI         53430.00\n",
            "9              Data Engineer               SE         49735.91\n",
            "10            Data Scientist               MI         44525.00\n"
          ]
        }
      ]
    },
    {
      "cell_type": "markdown",
      "source": [
        "4. Para alquien con experiencia \"EN\" que desea buscar un puesto de tiempo completo y ganar lo más posible, ¿le conviene trabajar de \n",
        "manera remota o presencial?"
      ],
      "metadata": {
        "id": "ruKnK-Iy3yP2"
      }
    },
    {
      "cell_type": "code",
      "source": [
        "%%R\n",
        "data %>% \n",
        "filter(grepl(\"EN\", experience_level)) %>%\n",
        "filter(employment_type == \"FT\") %>%\n",
        "group_by(remote_ratio) %>%\n",
        "summarize(mean_salary_in_usd = mean(salary_in_usd))\n",
        "\n",
        "#Le conviene trabajar de manera presencial"
      ],
      "metadata": {
        "colab": {
          "base_uri": "https://localhost:8080/"
        },
        "id": "mTOKXxuZ3vUq",
        "outputId": "5b18d155-568c-4837-95cf-a362bb13fe8c"
      },
      "execution_count": 75,
      "outputs": [
        {
          "output_type": "stream",
          "name": "stdout",
          "text": [
            "# A tibble: 3 × 2\n",
            "  remote_ratio mean_salary_in_usd\n",
            "         <int>              <dbl>\n",
            "1            0            104582.\n",
            "2           50             65344 \n",
            "3          100             67016.\n"
          ]
        }
      ]
    },
    {
      "cell_type": "markdown",
      "source": [
        "5. Cantidad de registros donde el país de residencia de la compañia y del trabajador son diferentes"
      ],
      "metadata": {
        "id": "kwsCB90G3z2-"
      }
    },
    {
      "cell_type": "code",
      "source": [
        "%%R\n",
        "data %>% \n",
        "group_by(employee_residence) %>%\n",
        "filter(company_location != employee_residence)%>%\n",
        "nrow()"
      ],
      "metadata": {
        "colab": {
          "base_uri": "https://localhost:8080/"
        },
        "id": "yrNiYI-G3vbc",
        "outputId": "8f68322b-6c13-479b-dab7-e2649c291727"
      },
      "execution_count": 76,
      "outputs": [
        {
          "output_type": "stream",
          "name": "stdout",
          "text": [
            "[1] 96\n"
          ]
        }
      ]
    },
    {
      "cell_type": "markdown",
      "source": [
        "6. Salario mensual promedio en pesos mexicanos para un trabajador con experiencia \"EN° en una empresa de tamaño S, L y M de acuerdo con los datos del año *2022*"
      ],
      "metadata": {
        "id": "gLuDftER36gN"
      }
    },
    {
      "cell_type": "code",
      "source": [
        "%%R\n",
        "data %>% \n",
        "filter(experience_level == \"EN\" & work_year == \"2022\") %>%\n",
        "mutate(Salario_mensual_mx = (salary_in_usd * 17.81)/12) %>%\n",
        "group_by(company_size) %>%\n",
        "summarise(Prom_Salario = mean(Salario_mensual_mx))"
      ],
      "metadata": {
        "colab": {
          "base_uri": "https://localhost:8080/"
        },
        "id": "e74FBycm31f1",
        "outputId": "dbefe628-6c17-476a-e114-399b9b65ecd7"
      },
      "execution_count": 77,
      "outputs": [
        {
          "output_type": "stream",
          "name": "stdout",
          "text": [
            "# A tibble: 3 × 2\n",
            "  company_size Prom_Salario\n",
            "  <chr>               <dbl>\n",
            "1 L                 105853.\n",
            "2 M                 127823.\n",
            "3 S                  83360.\n"
          ]
        }
      ]
    },
    {
      "cell_type": "markdown",
      "source": [
        "7. Top 10 Cantidad de trabajadores de cada pais registrado que trabajan en una compañía ubicada en Estados Unidos (ordenados de mayor a menor cantidad)"
      ],
      "metadata": {
        "id": "kT4WQrbu39Ci"
      }
    },
    {
      "cell_type": "code",
      "source": [
        "%%R\n",
        "data %>% \n",
        "filter(company_location == \"US\") %>%\n",
        "group_by(employee_residence) %>%\n",
        "summarize(Pais = n()) %>% \n",
        "arrange(desc(Pais)) %>%\n",
        "head(n=10)"
      ],
      "metadata": {
        "colab": {
          "base_uri": "https://localhost:8080/"
        },
        "id": "SV8JLShw31su",
        "outputId": "c515d707-2bf8-4bea-8f45-908f103c6b4d"
      },
      "execution_count": 78,
      "outputs": [
        {
          "output_type": "stream",
          "name": "stdout",
          "text": [
            "# A tibble: 10 × 2\n",
            "   employee_residence  Pais\n",
            "   <chr>              <int>\n",
            " 1 US                  2999\n",
            " 2 IN                     7\n",
            " 3 BR                     3\n",
            " 4 ES                     3\n",
            " 5 AR                     2\n",
            " 6 BO                     2\n",
            " 7 PT                     2\n",
            " 8 RU                     2\n",
            " 9 BE                     1\n",
            "10 BG                     1\n"
          ]
        }
      ]
    },
    {
      "cell_type": "markdown",
      "source": [
        "8. ¿Cuál es la equivalencia en promedio de cada moneda utilizada para la conversión a dólares?"
      ],
      "metadata": {
        "id": "13HbblJT4ADA"
      }
    },
    {
      "cell_type": "code",
      "source": [
        "%%R\n",
        "data %>% \n",
        "group_by(salary_currency) %>% \n",
        "summarize(promedio =mean(salary), promedio_usd = mean(salary_in_usd)) %>% \n",
        "summarize(cambio= salary_currency, promtot = promedio/promedio_usd)"
      ],
      "metadata": {
        "colab": {
          "base_uri": "https://localhost:8080/"
        },
        "id": "SbnzyDp94Ai5",
        "outputId": "39368fe7-a2e1-488d-f1fb-58a0cf161a24"
      },
      "execution_count": 82,
      "outputs": [
        {
          "output_type": "stream",
          "name": "stdout",
          "text": [
            "# A tibble: 20 × 2\n",
            "   cambio promtot\n",
            "   <chr>    <dbl>\n",
            " 1 AUD      1.43 \n",
            " 2 BRL      5.27 \n",
            " 3 CAD      1.29 \n",
            " 4 CHF      0.946\n",
            " 5 CLP    759.   \n",
            " 6 CZK     23.4  \n",
            " 7 DKK      6.41 \n",
            " 8 EUR      0.918\n",
            " 9 GBP      0.809\n",
            "10 HKD      7.84 \n",
            "11 HUF    319.   \n",
            "12 ILS      3.54 \n",
            "13 INR     77.0  \n",
            "14 JPY    109.   \n",
            "15 MXN     21.5  \n",
            "16 PLN      4.19 \n",
            "17 SGD      1.35 \n",
            "18 THB     34.0  \n",
            "19 TRY      8.92 \n",
            "20 USD      1    \n"
          ]
        }
      ]
    },
    {
      "cell_type": "code",
      "source": [],
      "metadata": {
        "id": "2vREjQjJGUCM"
      },
      "execution_count": null,
      "outputs": []
    }
  ]
}