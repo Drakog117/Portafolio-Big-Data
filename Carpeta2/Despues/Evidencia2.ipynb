{
  "nbformat": 4,
  "nbformat_minor": 0,
  "metadata": {
    "colab": {
      "provenance": []
    },
    "kernelspec": {
      "name": "python3",
      "display_name": "Python 3"
    },
    "language_info": {
      "name": "python"
    }
  },
  "cells": [
    {
      "cell_type": "code",
      "source": [
        "# Jesus Alejandro Valencia Valadez"
      ],
      "metadata": {
        "id": "Vi3NyNpEvgVy"
      },
      "execution_count": null,
      "outputs": []
    },
    {
      "cell_type": "code",
      "execution_count": 1,
      "metadata": {
        "id": "wGDKMkV3-rQb"
      },
      "outputs": [],
      "source": [
        "%%capture\n",
        "!pip install rpy2==3.5.1"
      ]
    },
    {
      "cell_type": "code",
      "source": [
        "%load_ext rpy2.ipython"
      ],
      "metadata": {
        "id": "4dkA1EJ6A72O"
      },
      "execution_count": 2,
      "outputs": []
    },
    {
      "cell_type": "code",
      "source": [
        "from google.colab import drive \n",
        "drive.mount('/content/drive', force_remount=True)"
      ],
      "metadata": {
        "colab": {
          "base_uri": "https://localhost:8080/"
        },
        "id": "jzM0MTvHBE7s",
        "outputId": "4baac288-20d8-4b54-cb17-9ce2387d4265"
      },
      "execution_count": 3,
      "outputs": [
        {
          "output_type": "stream",
          "name": "stdout",
          "text": [
            "Mounted at /content/drive\n"
          ]
        }
      ]
    },
    {
      "cell_type": "code",
      "source": [
        "%%R\n",
        "library (readr)\n",
        "library(magrittr)\n",
        "library(dplyr)"
      ],
      "metadata": {
        "id": "V2jAD268BLQ4",
        "colab": {
          "base_uri": "https://localhost:8080/"
        },
        "outputId": "857a6963-520d-4a35-bfeb-145a140b8f59"
      },
      "execution_count": 4,
      "outputs": [
        {
          "output_type": "stream",
          "name": "stderr",
          "text": [
            "WARNING:rpy2.rinterface_lib.callbacks:R[write to console]: \n",
            "Attaching package: ‘dplyr’\n",
            "\n",
            "\n",
            "WARNING:rpy2.rinterface_lib.callbacks:R[write to console]: The following objects are masked from ‘package:stats’:\n",
            "\n",
            "    filter, lag\n",
            "\n",
            "\n",
            "WARNING:rpy2.rinterface_lib.callbacks:R[write to console]: The following objects are masked from ‘package:base’:\n",
            "\n",
            "    intersect, setdiff, setequal, union\n",
            "\n",
            "\n"
          ]
        }
      ]
    },
    {
      "cell_type": "code",
      "source": [
        "%%R \n",
        "data <- read.csv(\"drive/MyDrive/videogames.csv\")"
      ],
      "metadata": {
        "id": "Dtvtk6PIBR4G"
      },
      "execution_count": 5,
      "outputs": []
    },
    {
      "cell_type": "code",
      "source": [
        "%%R\n",
        "length(rownames(data))"
      ],
      "metadata": {
        "colab": {
          "base_uri": "https://localhost:8080/"
        },
        "id": "ZBnt1w6EDWvA",
        "outputId": "3ebcbf1a-f332-491f-e24f-0987532fa264"
      },
      "execution_count": 6,
      "outputs": [
        {
          "output_type": "stream",
          "name": "stdout",
          "text": [
            "[1] 16719\n"
          ]
        }
      ]
    },
    {
      "cell_type": "code",
      "source": [
        "%%R\n",
        "colnames(data)"
      ],
      "metadata": {
        "colab": {
          "base_uri": "https://localhost:8080/"
        },
        "id": "dkdXONjSDZvM",
        "outputId": "59175a7f-594c-4c55-e3a0-2e026aa72016"
      },
      "execution_count": 7,
      "outputs": [
        {
          "output_type": "stream",
          "name": "stdout",
          "text": [
            " [1] \"Name\"            \"Platform\"        \"Year_of_Release\" \"Genre\"          \n",
            " [5] \"Publisher\"       \"NA_Sales\"        \"EU_Sales\"        \"JP_Sales\"       \n",
            " [9] \"Other_Sales\"     \"Global_Sales\"    \"Critic_Score\"    \"Critic_Count\"   \n",
            "[13] \"User_Score\"      \"User_Count\"      \"Developer\"       \"Rating\"         \n"
          ]
        }
      ]
    },
    {
      "cell_type": "markdown",
      "source": [
        "1. Cantidad de videojuegos por plataforma "
      ],
      "metadata": {
        "id": "zi5G4tUTBY8-"
      }
    },
    {
      "cell_type": "code",
      "source": [
        "%%R \n",
        "data %>%\n",
        "group_by(Platform) %>%\n",
        "summarize (Name=n()) "
      ],
      "metadata": {
        "colab": {
          "base_uri": "https://localhost:8080/"
        },
        "id": "-1bIok9PBZCJ",
        "outputId": "fd36a731-0fb5-443c-c2b2-b437fa80bb1d"
      },
      "execution_count": 8,
      "outputs": [
        {
          "output_type": "stream",
          "name": "stdout",
          "text": [
            "# A tibble: 31 × 2\n",
            "   Platform  Name\n",
            "   <chr>    <int>\n",
            " 1 2600       133\n",
            " 2 3DO          3\n",
            " 3 3DS        520\n",
            " 4 DC          52\n",
            " 5 DS        2152\n",
            " 6 GB          98\n",
            " 7 GBA        822\n",
            " 8 GC         556\n",
            " 9 GEN         29\n",
            "10 GG           1\n",
            "# ℹ 21 more rows\n",
            "# ℹ Use `print(n = ...)` to see more rows\n"
          ]
        }
      ]
    },
    {
      "cell_type": "markdown",
      "source": [
        "2. Cantidad de videojuegos por rating "
      ],
      "metadata": {
        "id": "9bvhG5iwBZLT"
      }
    },
    {
      "cell_type": "code",
      "source": [
        "%%R \n",
        "data %>%\n",
        "group_by(Rating) %>%\n",
        "filter(Rating != \"\" & Rating != \"NA\") %>%\n",
        "summarize (Name=n()) "
      ],
      "metadata": {
        "colab": {
          "base_uri": "https://localhost:8080/"
        },
        "id": "Icm22qWfBZR3",
        "outputId": "3ba33053-986e-4a8a-8ce9-ca7dccc88b7a"
      },
      "execution_count": 9,
      "outputs": [
        {
          "output_type": "stream",
          "name": "stdout",
          "text": [
            "# A tibble: 8 × 2\n",
            "  Rating  Name\n",
            "  <chr>  <int>\n",
            "1 AO         1\n",
            "2 E       3991\n",
            "3 E10+    1420\n",
            "4 EC         8\n",
            "5 K-A        3\n",
            "6 M       1563\n",
            "7 RP         3\n",
            "8 T       2961\n"
          ]
        }
      ]
    },
    {
      "cell_type": "markdown",
      "source": [
        "3. Cantidad de videojuegos lanzados antes del 2000 y cantidad de videojuegos lanzados despues del año 2000"
      ],
      "metadata": {
        "id": "KgrVK6z3BZZU"
      }
    },
    {
      "cell_type": "code",
      "source": [
        "%%R\n",
        "data %>%\n",
        "filter (Year_of_Release<2000) %>%\n",
        "nrow()"
      ],
      "metadata": {
        "colab": {
          "base_uri": "https://localhost:8080/"
        },
        "id": "uVge7ynnBZgZ",
        "outputId": "a1b7cabb-cfca-4d8e-f7e2-0df85f717d69"
      },
      "execution_count": 22,
      "outputs": [
        {
          "output_type": "stream",
          "name": "stdout",
          "text": [
            "[1] 1976\n"
          ]
        }
      ]
    },
    {
      "cell_type": "code",
      "source": [
        "%%R\n",
        "data %>%\n",
        "filter (Year_of_Release>2000) %>%\n",
        "nrow()"
      ],
      "metadata": {
        "colab": {
          "base_uri": "https://localhost:8080/"
        },
        "id": "hTuCBfGeI7sm",
        "outputId": "b06c4f76-a496-4fad-9c23-b5e1bd4c5ccd"
      },
      "execution_count": 23,
      "outputs": [
        {
          "output_type": "stream",
          "name": "stdout",
          "text": [
            "[1] 14393\n"
          ]
        }
      ]
    },
    {
      "cell_type": "markdown",
      "source": [
        "4. Plataforma cuyos videojuegos han recibido el mayor numero de criticas"
      ],
      "metadata": {
        "id": "fWGEvz3yBZm4"
      }
    },
    {
      "cell_type": "code",
      "source": [
        "%%R \n",
        "data %>%\n",
        "group_by(Platform) %>%\n",
        "summarize (Critic_Count=n()) %>%\n",
        "head(n=1)"
      ],
      "metadata": {
        "colab": {
          "base_uri": "https://localhost:8080/"
        },
        "id": "ateqcoKvBa3Z",
        "outputId": "038dbe99-c276-428b-d7d6-4e126899f48c"
      },
      "execution_count": 21,
      "outputs": [
        {
          "output_type": "stream",
          "name": "stdout",
          "text": [
            "# A tibble: 1 × 2\n",
            "  Platform Critic_Count\n",
            "  <chr>           <int>\n",
            "1 2600              133\n"
          ]
        }
      ]
    },
    {
      "cell_type": "markdown",
      "source": [
        "5. Plataformas cuyos videojuegos han recibido el menor score por parte de los usuarios "
      ],
      "metadata": {
        "id": "Lsbruoz9Ba-L"
      }
    },
    {
      "cell_type": "code",
      "source": [
        "%%R \n",
        "data %>%\n",
        "group_by(Platform) %>%\n",
        "summarize (Critic_Score=n()) %>%\n",
        "arrange(Critic_Score) %>%\n",
        "head(n=1)"
      ],
      "metadata": {
        "colab": {
          "base_uri": "https://localhost:8080/"
        },
        "id": "iGbKxs8zBbDm",
        "outputId": "898770bc-d6a1-4e91-f090-588e46b7a02f"
      },
      "execution_count": 20,
      "outputs": [
        {
          "output_type": "stream",
          "name": "stdout",
          "text": [
            "# A tibble: 1 × 2\n",
            "  Platform Critic_Score\n",
            "  <chr>           <int>\n",
            "1 GG                  1\n"
          ]
        }
      ]
    },
    {
      "cell_type": "markdown",
      "source": [
        "6. Ventas totales en NA por parte de cada empresa desarrolladora"
      ],
      "metadata": {
        "id": "0IGm21O0BbJU"
      }
    },
    {
      "cell_type": "code",
      "source": [
        "%%R \n",
        "data %>%\n",
        "group_by(Developer) %>%\n",
        "filter(Developer != \"\" & Developer != \"NA\") %>%\n",
        "summarize (NA_Sales=n()) \n"
      ],
      "metadata": {
        "colab": {
          "base_uri": "https://localhost:8080/"
        },
        "id": "fzUk2I7VBbOy",
        "outputId": "44563d15-85e4-4d0f-af0a-9f7b8e99ac22"
      },
      "execution_count": 19,
      "outputs": [
        {
          "output_type": "stream",
          "name": "stdout",
          "text": [
            "# A tibble: 1,696 × 2\n",
            "   Developer                             NA_Sales\n",
            "   <chr>                                    <int>\n",
            " 1 10tacle Studios                              1\n",
            " 2 10tacle Studios, Fusionsphere Systems        2\n",
            " 3 1C, 1C Company                               2\n",
            " 4 1C, Ino-Co, 1C Company                       2\n",
            " 5 1C, Various, 1C Company                      1\n",
            " 6 1C: Maddox Games                             2\n",
            " 7 1C:Ino-Co                                    2\n",
            " 8 1st Playable Productions                    12\n",
            " 9 2015                                         1\n",
            "10 2D Boy                                       1\n",
            "# ℹ 1,686 more rows\n",
            "# ℹ Use `print(n = ...)` to see more rows\n"
          ]
        }
      ]
    },
    {
      "cell_type": "markdown",
      "source": [
        "7. Ventas globales por genero de videojuego"
      ],
      "metadata": {
        "id": "0zIjWz3lClvF"
      }
    },
    {
      "cell_type": "code",
      "source": [
        "%%R \n",
        "data %>%\n",
        "group_by(Genre) %>%\n",
        "filter(Genre != \"\" & Genre != \"NA\") %>%\n",
        "summarize (Global_Sales=n()) \n"
      ],
      "metadata": {
        "colab": {
          "base_uri": "https://localhost:8080/"
        },
        "id": "lO35rbQaCl14",
        "outputId": "f85985ae-10e2-4a5b-92b3-e519879f990e"
      },
      "execution_count": 18,
      "outputs": [
        {
          "output_type": "stream",
          "name": "stdout",
          "text": [
            "# A tibble: 12 × 2\n",
            "   Genre        Global_Sales\n",
            "   <chr>               <int>\n",
            " 1 Action               3370\n",
            " 2 Adventure            1303\n",
            " 3 Fighting              849\n",
            " 4 Misc                 1750\n",
            " 5 Platform              888\n",
            " 6 Puzzle                580\n",
            " 7 Racing               1249\n",
            " 8 Role-Playing         1500\n",
            " 9 Shooter              1323\n",
            "10 Simulation            874\n",
            "11 Sports               2348\n",
            "12 Strategy              683\n"
          ]
        }
      ]
    },
    {
      "cell_type": "markdown",
      "source": [
        "8. Region en donde se ha obtenido la mayor cantidad de ventas de videojuegos "
      ],
      "metadata": {
        "id": "iFFWUjCkCmE8"
      }
    },
    {
      "cell_type": "code",
      "source": [
        "%%R \n",
        "region_venta <- data %>%\n",
        "summarize(totalNA = sum(NA_Sales),\n",
        "          totalEU = sum(EU_Sales),\n",
        "          totalJP = sum(JP_Sales),\n",
        "          totalOther = sum(Other_Sales)) \n",
        "region_venta[which.max(region_venta)]"
      ],
      "metadata": {
        "colab": {
          "base_uri": "https://localhost:8080/"
        },
        "id": "A_pDv3S6CmZ0",
        "outputId": "e7c59a8c-be61-4b3c-94fc-e096cae15d85"
      },
      "execution_count": 17,
      "outputs": [
        {
          "output_type": "stream",
          "name": "stdout",
          "text": [
            "  totalNA\n",
            "1 4402.62\n"
          ]
        }
      ]
    },
    {
      "cell_type": "markdown",
      "source": [
        "9. Videojuego más vendido de cada año "
      ],
      "metadata": {
        "id": "2AsN-deiCoZF"
      }
    },
    {
      "cell_type": "code",
      "source": [
        "%%R\n",
        "data %>% \n",
        "group_by(Year_of_Release) %>%\n",
        "filter(Name != \"\" & Name != \"NA\") %>%\n",
        "slice_max(Global_Sales) %>%\n",
        "select(Year_of_Release, Name,Genre)"
      ],
      "metadata": {
        "colab": {
          "base_uri": "https://localhost:8080/"
        },
        "id": "R92cU47RCpu0",
        "outputId": "af17f889-3724-49b6-e045-7e045c646fbd"
      },
      "execution_count": 16,
      "outputs": [
        {
          "output_type": "stream",
          "name": "stdout",
          "text": [
            "# A tibble: 40 × 3\n",
            "# Groups:   Year_of_Release [40]\n",
            "   Year_of_Release Name                            Genre    \n",
            "   <chr>           <chr>                           <chr>    \n",
            " 1 1980            Asteroids                       Shooter  \n",
            " 2 1981            Pitfall!                        Platform \n",
            " 3 1982            Pac-Man                         Puzzle   \n",
            " 4 1983            Baseball                        Sports   \n",
            " 5 1984            Duck Hunt                       Shooter  \n",
            " 6 1985            Super Mario Bros.               Platform \n",
            " 7 1986            The Legend of Zelda             Action   \n",
            " 8 1987            Zelda II: The Adventure of Link Adventure\n",
            " 9 1988            Super Mario Bros. 3             Platform \n",
            "10 1989            Tetris                          Puzzle   \n",
            "# ℹ 30 more rows\n",
            "# ℹ Use `print(n = ...)` to see more rows\n"
          ]
        }
      ]
    },
    {
      "cell_type": "markdown",
      "source": [
        "10. Videojuego (S) más viejo(s) y Videojuego (S) más nuevos de acuerdo al registro "
      ],
      "metadata": {
        "id": "OE22yHN4Cp1s"
      }
    },
    {
      "cell_type": "code",
      "source": [
        "%%R\n",
        "data %>%\n",
        "group_by(Name) %>%\n",
        "filter(Year_of_Release != \"\" & Year_of_Release!=\"N/A\") %>%\n",
        "summarize (Year_of_Release) %>%\n",
        "select(Year_of_Release) %>%\n",
        "arrange(desc(Year_of_Release))"
      ],
      "metadata": {
        "colab": {
          "base_uri": "https://localhost:8080/"
        },
        "id": "Z26Vy7c_Cp8m",
        "outputId": "17075b95-b858-4d45-c352-9c7a5e34187a"
      },
      "execution_count": 15,
      "outputs": [
        {
          "output_type": "stream",
          "name": "stdout",
          "text": [
            "`summarise()` has grouped output by 'Name'. You can override using the\n",
            "`.groups` argument.\n",
            "Adding missing grouping variables: `Name`\n",
            "# A tibble: 16,450 × 2\n",
            "# Groups:   Name [11,430]\n",
            "   Name                                               Year_of_Release\n",
            "   <chr>                                              <chr>          \n",
            " 1 \"Imagine: Makeup Artist\"                           2020           \n",
            " 2 \"Brothers Conflict: Precious Baby\"                 2017           \n",
            " 3 \"Phantasy Star Online 2 Episode 4: Deluxe Package\" 2017           \n",
            " 4 \"Phantasy Star Online 2 Episode 4: Deluxe Package\" 2017           \n",
            " 5 \" Beyblade Burst\"                                  2016           \n",
            " 6 \" Haikyu!! Cross Team Match!\"                      2016           \n",
            " 7 \"12-Sai. Koisuru Diary\"                            2016           \n",
            " 8 \"3DS Classic Collection\"                           2016           \n",
            " 9 \"7 Days to Die\"                                    2016           \n",
            "10 \"7 Days to Die\"                                    2016           \n",
            "# ℹ 16,440 more rows\n",
            "# ℹ Use `print(n = ...)` to see more rows\n"
          ]
        }
      ]
    },
    {
      "cell_type": "code",
      "source": [
        "%%R\n",
        "data %>%\n",
        "group_by(Name) %>%\n",
        "filter(Year_of_Release != \"\" & Year_of_Release!=\"N/A\") %>%\n",
        "summarize (Year_of_Release) %>%\n",
        "select(Year_of_Release) %>%\n",
        "arrange(Year_of_Release)"
      ],
      "metadata": {
        "colab": {
          "base_uri": "https://localhost:8080/"
        },
        "id": "AN6F6u3gSycE",
        "outputId": "2bfd71f3-7e0c-492c-b646-2b662931ab47"
      },
      "execution_count": 14,
      "outputs": [
        {
          "output_type": "stream",
          "name": "stdout",
          "text": [
            "`summarise()` has grouped output by 'Name'. You can override using the\n",
            "`.groups` argument.\n",
            "Adding missing grouping variables: `Name`\n",
            "# A tibble: 16,450 × 2\n",
            "# Groups:   Name [11,430]\n",
            "   Name               Year_of_Release\n",
            "   <chr>              <chr>          \n",
            " 1 Asteroids          1980           \n",
            " 2 Boxing             1980           \n",
            " 3 Bridge             1980           \n",
            " 4 Checkers           1980           \n",
            " 5 Defender           1980           \n",
            " 6 Freeway            1980           \n",
            " 7 Ice Hockey         1980           \n",
            " 8 Kaboom!            1980           \n",
            " 9 Missile Command    1980           \n",
            "10 Adventures of Tron 1981           \n",
            "# ℹ 16,440 more rows\n",
            "# ℹ Use `print(n = ...)` to see more rows\n"
          ]
        }
      ]
    },
    {
      "cell_type": "markdown",
      "source": [
        "11. Videojuego más vendido globalmente de tú genero fav"
      ],
      "metadata": {
        "id": "ES9OsjDYCqDT"
      }
    },
    {
      "cell_type": "code",
      "source": [
        "%%R\n",
        "data %>% \n",
        "filter(Name != \"\")%>% \n",
        "filter(grepl(\"Plataform\", Genre)) %>% \n",
        "group_by(Name) %>%\n",
        "summarize(videjuego_fav = n()) %>% \n",
        "arrange(desc(videjuego_fav))"
      ],
      "metadata": {
        "colab": {
          "base_uri": "https://localhost:8080/"
        },
        "id": "YydwY7_UDP3N",
        "outputId": "d0bee4f1-096e-4dfc-f6d3-c663064b42f5"
      },
      "execution_count": 13,
      "outputs": [
        {
          "output_type": "stream",
          "name": "stdout",
          "text": [
            "# A tibble: 0 × 2\n",
            "# ℹ 2 variables: Name <chr>, videjuego_fav <int>\n"
          ]
        }
      ]
    }
  ]
}