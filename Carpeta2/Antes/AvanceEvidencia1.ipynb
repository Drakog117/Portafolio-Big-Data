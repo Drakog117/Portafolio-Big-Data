{
 "cells": [
  {
   "cell_type": "code",
   "execution_count": 15,
   "id": "29cf9087",
   "metadata": {},
   "outputs": [
    {
     "name": "stdout",
     "output_type": "stream",
     "text": [
      "Hello World\n"
     ]
    }
   ],
   "source": [
    "print(\"Hello World\")"
   ]
  },
  {
   "cell_type": "code",
   "execution_count": 16,
   "id": "699a5993",
   "metadata": {},
   "outputs": [
    {
     "name": "stdout",
     "output_type": "stream",
     "text": [
      "      0          1                    2           3           4     \\\n",
      "0  cve_ent  poblacion               nombre  26-02-2020  27-02-2020   \n",
      "1       01    1434635       AGUASCALIENTES           0           0   \n",
      "2       02    3634868      BAJA CALIFORNIA           0           0   \n",
      "3       03     804708  BAJA CALIFORNIA SUR           0           0   \n",
      "4       04    1000617             CAMPECHE           0           0   \n",
      "5       07    5730367              CHIAPAS           0           0   \n",
      "6       08    3801487            CHIHUAHUA           0           0   \n",
      "7       09    9018645     DISTRITO FEDERAL           0           2   \n",
      "8       05    3218720             COAHUILA           0           0   \n",
      "9       06     785153               COLIMA           0           0   \n",
      "\n",
      "         5           6           7           8           9     ...  \\\n",
      "0  28-02-2020  29-02-2020  01-03-2020  02-03-2020  03-03-2020  ...   \n",
      "1           0           0           0           0           0  ...   \n",
      "2           0           0           0           0           0  ...   \n",
      "3           0           0           0           0           0  ...   \n",
      "4           0           0           0           0           0  ...   \n",
      "5           0           1           0           0           0  ...   \n",
      "6           0           0           0           0           0  ...   \n",
      "7           0           0           0           0           1  ...   \n",
      "8           1           0           0           0           1  ...   \n",
      "9           0           0           0           0           0  ...   \n",
      "\n",
      "         1068        1069        1070        1071        1072        1073  \\\n",
      "0  26-01-2023  27-01-2023  28-01-2023  29-01-2023  30-01-2023  31-01-2023   \n",
      "1         121          97          22          16         137         107   \n",
      "2          57          58          22           8         111          98   \n",
      "3          23          14          14           4          41          28   \n",
      "4           7           1           0           1           5           3   \n",
      "5           7           4           4           0          10           7   \n",
      "6          26          33           6           6          34          34   \n",
      "7         888         731         316         238        1035         807   \n",
      "8          92          66          36          16         103          66   \n",
      "9          40          33          12          22          60          54   \n",
      "\n",
      "         1074        1075        1076        1077  \n",
      "0  01-02-2023  02-02-2023  03-02-2023  04-02-2023  \n",
      "1          94          85          48           0  \n",
      "2          91          66          25           0  \n",
      "3          21          37          29           8  \n",
      "4           3           5           1           0  \n",
      "5           6           5           1           0  \n",
      "6          28          16           8           1  \n",
      "7         799         747         393          65  \n",
      "8          65          69          24           2  \n",
      "9          36          47          31           1  \n",
      "\n",
      "[10 rows x 1078 columns]\n"
     ]
    }
   ],
   "source": [
    "import pandas as pd\n",
    "datos = pd.read_csv('Desktop/CasosEstado.csv', header = None)\n",
    "print(datos.head(10))"
   ]
  },
  {
   "cell_type": "code",
   "execution_count": null,
   "id": "9b074589",
   "metadata": {},
   "outputs": [],
   "source": []
  }
 ],
 "metadata": {
  "kernelspec": {
   "display_name": "Python 3 (ipykernel)",
   "language": "python",
   "name": "python3"
  },
  "language_info": {
   "codemirror_mode": {
    "name": "ipython",
    "version": 3
   },
   "file_extension": ".py",
   "mimetype": "text/x-python",
   "name": "python",
   "nbconvert_exporter": "python",
   "pygments_lexer": "ipython3",
   "version": "3.9.13"
  }
 },
 "nbformat": 4,
 "nbformat_minor": 5
}
