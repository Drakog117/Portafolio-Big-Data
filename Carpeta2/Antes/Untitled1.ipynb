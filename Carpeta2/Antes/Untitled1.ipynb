{
  "nbformat": 4,
  "nbformat_minor": 0,
  "metadata": {
    "colab": {
      "provenance": []
    },
    "kernelspec": {
      "name": "python3",
      "display_name": "Python 3"
    },
    "language_info": {
      "name": "python"
    }
  },
  "cells": [
    {
      "cell_type": "code",
      "execution_count": null,
      "metadata": {
        "id": "Noiiot_g_dZR"
      },
      "outputs": [],
      "source": [
        "%%capture \n",
        "!pip install rpy2==3.5.1"
      ]
    },
    {
      "cell_type": "code",
      "source": [
        "%load_ext rpy2.ipython"
      ],
      "metadata": {
        "id": "pOW2gAaF_9KA",
        "colab": {
          "base_uri": "https://localhost:8080/"
        },
        "outputId": "a195f1b3-4610-4ab6-f3c4-a8a609f1b335"
      },
      "execution_count": null,
      "outputs": [
        {
          "output_type": "stream",
          "name": "stdout",
          "text": [
            "The rpy2.ipython extension is already loaded. To reload it, use:\n",
            "  %reload_ext rpy2.ipython\n"
          ]
        }
      ]
    },
    {
      "cell_type": "code",
      "source": [
        "from google.colab import drive \n",
        "drive.mount('/content/drive', force_remount=True)"
      ],
      "metadata": {
        "colab": {
          "base_uri": "https://localhost:8080/"
        },
        "id": "FE7g01rt_9Oz",
        "outputId": "f4e22f4e-6ff5-40ff-8e32-56015c4c50b4"
      },
      "execution_count": null,
      "outputs": [
        {
          "output_type": "stream",
          "name": "stdout",
          "text": [
            "Mounted at /content/drive\n"
          ]
        }
      ]
    },
    {
      "cell_type": "code",
      "source": [
        "%%R\n",
        "library(readr)\n",
        "library(magrittr)\n",
        "library(dplyr)"
      ],
      "metadata": {
        "id": "VWxnODnq_t4O"
      },
      "execution_count": null,
      "outputs": []
    },
    {
      "cell_type": "code",
      "source": [],
      "metadata": {
        "id": "NceKJj3OGU-i"
      },
      "execution_count": null,
      "outputs": []
    },
    {
      "cell_type": "code",
      "source": [
        "%%R\n",
        "data <- read.csv(\"drive/MyDrive/movies.csv\")"
      ],
      "metadata": {
        "id": "FZu9aNU-AG_z"
      },
      "execution_count": null,
      "outputs": []
    },
    {
      "cell_type": "code",
      "source": [],
      "metadata": {
        "id": "nB0-s-6CASCL"
      },
      "execution_count": null,
      "outputs": []
    },
    {
      "cell_type": "code",
      "source": [
        "#Cuantas peliculas tiene el conjunto de datos??"
      ],
      "metadata": {
        "id": "gmuHwXTCAWBZ"
      },
      "execution_count": null,
      "outputs": []
    },
    {
      "cell_type": "code",
      "source": [
        "%%R\n",
        "length(rownames(data))"
      ],
      "metadata": {
        "colab": {
          "base_uri": "https://localhost:8080/"
        },
        "id": "p-qPvjUfBjc7",
        "outputId": "0ad196b7-cba9-4d92-c83a-6ec581d5f6c5"
      },
      "execution_count": null,
      "outputs": [
        {
          "output_type": "stream",
          "name": "stdout",
          "text": [
            "[1] 7668\n"
          ]
        }
      ]
    },
    {
      "cell_type": "code",
      "source": [
        "#Cuales son los diferentes tipos de clasificacion y cuantos registros existen por cada uno"
      ],
      "metadata": {
        "id": "_lsVIP3wAhRf"
      },
      "execution_count": null,
      "outputs": []
    },
    {
      "cell_type": "code",
      "source": [
        "%%R\n",
        "colnames(data)"
      ],
      "metadata": {
        "colab": {
          "base_uri": "https://localhost:8080/"
        },
        "id": "UoK8GPEPAw5d",
        "outputId": "bca8090e-fc5c-4cee-b86d-bfb6edde7150"
      },
      "execution_count": null,
      "outputs": [
        {
          "output_type": "stream",
          "name": "stdout",
          "text": [
            " [1] \"name\"     \"rating\"   \"genre\"    \"year\"     \"released\" \"score\"   \n",
            " [7] \"votes\"    \"director\" \"writer\"   \"star\"     \"country\"  \"budget\"  \n",
            "[13] \"gross\"    \"company\"  \"runtime\" \n"
          ]
        }
      ]
    },
    {
      "cell_type": "code",
      "source": [
        "%%R\n",
        "data%>%\n",
        "group_by(rating)%>%\n",
        "summarize(cantidad = n())"
      ],
      "metadata": {
        "colab": {
          "base_uri": "https://localhost:8080/"
        },
        "id": "4CeMAhIBAz49",
        "outputId": "e8865e51-f205-41ea-a6a4-50958f5797c4"
      },
      "execution_count": null,
      "outputs": [
        {
          "output_type": "stream",
          "name": "stdout",
          "text": [
            "# A tibble: 13 × 2\n",
            "   rating      cantidad\n",
            "   <chr>          <int>\n",
            " 1 \"\"                77\n",
            " 2 \"Approved\"         1\n",
            " 3 \"G\"              153\n",
            " 4 \"NC-17\"           23\n",
            " 5 \"Not Rated\"      283\n",
            " 6 \"PG\"            1252\n",
            " 7 \"PG-13\"         2112\n",
            " 8 \"R\"             3697\n",
            " 9 \"TV-14\"            1\n",
            "10 \"TV-MA\"            9\n",
            "11 \"TV-PG\"            5\n",
            "12 \"Unrated\"         52\n",
            "13 \"X\"                3\n"
          ]
        }
      ]
    },
    {
      "cell_type": "code",
      "source": [
        "#Cuals son los diferentes tipos de genero y cuantos regsitros existen por cada uno"
      ],
      "metadata": {
        "id": "b6rUelbtC6We"
      },
      "execution_count": null,
      "outputs": []
    },
    {
      "cell_type": "code",
      "source": [
        "%%R\n",
        "data%>%\n",
        "group_by(genre)%>%\n",
        "summarize(cantidad = n())"
      ],
      "metadata": {
        "colab": {
          "base_uri": "https://localhost:8080/"
        },
        "id": "SazUA7_zDDyn",
        "outputId": "5f790c5a-85c6-4108-dfaa-3584c0987906"
      },
      "execution_count": null,
      "outputs": [
        {
          "output_type": "stream",
          "name": "stdout",
          "text": [
            "# A tibble: 19 × 2\n",
            "   genre     cantidad\n",
            "   <chr>        <int>\n",
            " 1 Action        1705\n",
            " 2 Adventure      427\n",
            " 3 Animation      338\n",
            " 4 Biography      443\n",
            " 5 Comedy        2245\n",
            " 6 Crime          551\n",
            " 7 Drama         1518\n",
            " 8 Family          11\n",
            " 9 Fantasy         44\n",
            "10 History          1\n",
            "11 Horror         322\n",
            "12 Music            1\n",
            "13 Musical          2\n",
            "14 Mystery         20\n",
            "15 Romance         10\n",
            "16 Sci-Fi          10\n",
            "17 Sport            1\n",
            "18 Thriller        16\n",
            "19 Western          3\n"
          ]
        }
      ]
    },
    {
      "cell_type": "code",
      "source": [
        "#Cuantas peliculas hay regsitradas por cada año"
      ],
      "metadata": {
        "id": "g2WEk_ZiDNEv"
      },
      "execution_count": null,
      "outputs": []
    },
    {
      "cell_type": "code",
      "source": [
        "%%R\n",
        "data%>%\n",
        "group_by(year)%>%\n",
        "summarize(cantidad = n())%>%\n",
        "print(n=41)"
      ],
      "metadata": {
        "colab": {
          "base_uri": "https://localhost:8080/"
        },
        "id": "-RuWw1G1DSir",
        "outputId": "4ee4f41b-5abf-42f3-e21c-994b5e9081e9"
      },
      "execution_count": null,
      "outputs": [
        {
          "output_type": "stream",
          "name": "stdout",
          "text": [
            "# A tibble: 41 × 2\n",
            "    year cantidad\n",
            "   <int>    <int>\n",
            " 1  1980       92\n",
            " 2  1981      113\n",
            " 3  1982      126\n",
            " 4  1983      144\n",
            " 5  1984      168\n",
            " 6  1985      200\n",
            " 7  1986      200\n",
            " 8  1987      200\n",
            " 9  1988      200\n",
            "10  1989      200\n",
            "11  1990      200\n",
            "12  1991      200\n",
            "13  1992      200\n",
            "14  1993      200\n",
            "15  1994      200\n",
            "16  1995      200\n",
            "17  1996      200\n",
            "18  1997      200\n",
            "19  1998      200\n",
            "20  1999      200\n",
            "21  2000      200\n",
            "22  2001      200\n",
            "23  2002      200\n",
            "24  2003      200\n",
            "25  2004      200\n",
            "26  2005      200\n",
            "27  2006      200\n",
            "28  2007      200\n",
            "29  2008      200\n",
            "30  2009      200\n",
            "31  2010      200\n",
            "32  2011      200\n",
            "33  2012      200\n",
            "34  2013      200\n",
            "35  2014      200\n",
            "36  2015      200\n",
            "37  2016      200\n",
            "38  2017      200\n",
            "39  2018      200\n",
            "40  2019      200\n",
            "41  2020       25\n"
          ]
        }
      ]
    },
    {
      "cell_type": "code",
      "source": [
        "#En promedio que año tiene el score MAS ALTO"
      ],
      "metadata": {
        "id": "KcvqgKCKD0Lt"
      },
      "execution_count": null,
      "outputs": []
    },
    {
      "cell_type": "code",
      "source": [
        "%%R\n",
        "data%>%\n",
        "group_by(year)%>%\n",
        "summarize(col = mean(score))%>%\n",
        "arrange(desc(col))%>%\n",
        "head(1)"
      ],
      "metadata": {
        "colab": {
          "base_uri": "https://localhost:8080/"
        },
        "id": "tefumVsqD5Gj",
        "outputId": "6141a61b-ef29-4e77-a17a-a2158e22fe27"
      },
      "execution_count": null,
      "outputs": [
        {
          "output_type": "stream",
          "name": "stdout",
          "text": [
            "# A tibble: 1 × 2\n",
            "   year   col\n",
            "  <int> <dbl>\n",
            "1  2016  6.62\n"
          ]
        }
      ]
    },
    {
      "cell_type": "code",
      "source": [
        "#Que año tiene la cantidad de votos mas alta"
      ],
      "metadata": {
        "id": "5Oaog8a-FR7k"
      },
      "execution_count": null,
      "outputs": []
    },
    {
      "cell_type": "code",
      "source": [
        "%%R\n",
        "data%>%\n",
        "group_by(year)%>%\n",
        "summarize(col = sum(votes))%>%\n",
        "arrange(desc(col))%>%\n",
        "head(1)"
      ],
      "metadata": {
        "colab": {
          "base_uri": "https://localhost:8080/"
        },
        "id": "PfXCw_pPFUY_",
        "outputId": "3574d382-7c6c-4e5a-dae8-c0b60b95df3d"
      },
      "execution_count": null,
      "outputs": [
        {
          "output_type": "stream",
          "name": "stdout",
          "text": [
            "# A tibble: 1 × 2\n",
            "   year      col\n",
            "  <int>    <dbl>\n",
            "1  2013 33093300\n"
          ]
        }
      ]
    },
    {
      "cell_type": "code",
      "source": [
        "#Que directores han firmado mas de 5 peliculas??"
      ],
      "metadata": {
        "id": "fx7-qgGBGX3t"
      },
      "execution_count": null,
      "outputs": []
    },
    {
      "cell_type": "code",
      "source": [
        "%%R\n",
        "data%>%\n",
        "group_by(director)%>%\n",
        "summarize(col = length(rownames(names)))%>%\n",
        "arrange(desc(col))"
      ],
      "metadata": {
        "colab": {
          "base_uri": "https://localhost:8080/"
        },
        "id": "6E7ywFefGvhJ",
        "outputId": "e35b432a-272a-4379-b98a-4aae7b8cbb00"
      },
      "execution_count": null,
      "outputs": [
        {
          "output_type": "stream",
          "name": "stdout",
          "text": [
            "# A tibble: 2,949 × 2\n",
            "   director              col\n",
            "   <chr>               <int>\n",
            " 1 A.R. Murugadoss         0\n",
            " 2 Aamir Khan              0\n",
            " 3 Aaron Blaise            0\n",
            " 4 Aaron Norris            0\n",
            " 5 Aaron Seltzer           0\n",
            " 6 Aaron Sorkin            0\n",
            " 7 Abbas Kiarostami        0\n",
            " 8 Abby Kohn               0\n",
            " 9 Abdellatif Kechiche     0\n",
            "10 Abe Sylvia              0\n",
            "# ℹ 2,939 more rows\n",
            "# ℹ Use `print(n = ...)` to see more rows\n"
          ]
        }
      ]
    },
    {
      "cell_type": "code",
      "source": [
        "#Quien es el actor protagonista que participo en mas peliculas en 90s, 00s,10s,20s"
      ],
      "metadata": {
        "id": "Z76-xz4uIeJT"
      },
      "execution_count": null,
      "outputs": []
    },
    {
      "cell_type": "code",
      "source": [
        "%%R\n",
        "data %>%\n",
        "mutate(decade = case_when(\n",
        "    year >= 1980 & year < 1990 ~ \"80s\",\n",
        "    year >= 1990 & year < 2000 ~ \"90s\",\n",
        "    year >= 2000 & year < 2010 ~ \"00s\",\n",
        "    year >= 2010 & year < 2020 ~ \"10s\",\n",
        "    year >= 2020 & year < 2030 ~ \"20s\",\n",
        ")) %>%\n",
        "\n",
        "select(decade, star) %>%\n",
        "group_by(decade, star) %>%\n",
        "summarize(num_peliculas = n()) %>%\n",
        "summarize(mejor_actor= star[which.max(num_peliculas)],\n",
        "          num_pelis = max(num_peliculas))"
      ],
      "metadata": {
        "colab": {
          "base_uri": "https://localhost:8080/"
        },
        "id": "NQXfdfZYO4pb",
        "outputId": "1e80cc95-ae4f-459f-c7d1-f389ec4a9133"
      },
      "execution_count": null,
      "outputs": [
        {
          "output_type": "stream",
          "name": "stdout",
          "text": [
            "`summarise()` has grouped output by 'decade'. You can override using the\n",
            "`.groups` argument.\n",
            "# A tibble: 5 × 3\n",
            "  decade mejor_actor    num_pelis\n",
            "  <chr>  <chr>              <int>\n",
            "1 00s    Nicolas Cage          17\n",
            "2 10s    Dwayne Johnson        14\n",
            "3 20s    Augie Tulba            1\n",
            "4 80s    Burt Reynolds         14\n",
            "5 90s    Bruce Willis          15\n"
          ]
        }
      ]
    },
    {
      "cell_type": "code",
      "source": [
        "# Top 10 peliculas con mas presupuesto"
      ],
      "metadata": {
        "id": "Xg_91L4BMlz_"
      },
      "execution_count": null,
      "outputs": []
    },
    {
      "cell_type": "code",
      "source": [
        "%%R\n",
        "data%>%\n",
        "group_by(name)%>%\n",
        "summarize(presupuesto= budget)%>%\n",
        "arrange(desc(presupuesto))"
      ],
      "metadata": {
        "id": "ylIOlWqXMsRH",
        "colab": {
          "base_uri": "https://localhost:8080/"
        },
        "outputId": "2b1c8556-e2de-4f15-f02b-69f3a0d85f68"
      },
      "execution_count": null,
      "outputs": [
        {
          "output_type": "stream",
          "name": "stdout",
          "text": [
            "`summarise()` has grouped output by 'name'. You can override using the\n",
            "`.groups` argument.\n",
            "# A tibble: 7,668 × 2\n",
            "# Groups:   name [7,512]\n",
            "   name                                          presupuesto\n",
            "   <chr>                                               <dbl>\n",
            " 1 Avengers: Endgame                               356000000\n",
            " 2 Avengers: Infinity War                          321000000\n",
            " 3 Star Wars: Episode VIII - The Last Jedi         317000000\n",
            " 4 Justice League                                  300000000\n",
            " 5 Pirates of the Caribbean: at World's End        300000000\n",
            " 6 Solo: A Star Wars Story                         275000000\n",
            " 7 Star Wars: Episode IX - The Rise of Skywalker   275000000\n",
            " 8 Superman Returns                                270000000\n",
            " 9 Tangled                                         260000000\n",
            "10 The Lion King                                   260000000\n",
            "# ℹ 7,658 more rows\n",
            "# ℹ Use `print(n = ...)` to see more rows\n"
          ]
        }
      ]
    }
  ]
}